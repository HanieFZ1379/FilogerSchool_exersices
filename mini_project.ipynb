{
 "cells": [
  {
   "attachments": {},
   "cell_type": "markdown",
   "metadata": {},
   "source": [
    "ToDO List\n",
    "\n",
    "Add new task\n",
    "\n",
    "Remove tasks\n",
    "\n",
    "Edit tasks\n",
    "\n",
    "Show all tasks\n",
    "\n",
    "Done tasks\n",
    "\n",
    "Search in Todo list\n",
    "\n",
    "Reset Todo list\n",
    "\n",
    "Exit"
   ]
  },
  {
   "cell_type": "code",
   "execution_count": null,
   "metadata": {},
   "outputs": [],
   "source": []
  }
 ],
 "metadata": {
  "language_info": {
   "name": "python"
  },
  "orig_nbformat": 4
 },
 "nbformat": 4,
 "nbformat_minor": 2
}
