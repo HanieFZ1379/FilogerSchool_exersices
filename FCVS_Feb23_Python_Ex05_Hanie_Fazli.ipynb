{
 "cells": [
  {
   "attachments": {},
   "cell_type": "markdown",
   "metadata": {},
   "source": [
    "FirstName:Hanie\n",
    "\n",
    "LastName: Fazli"
   ]
  },
  {
   "attachments": {},
   "cell_type": "markdown",
   "metadata": {},
   "source": [
    "# Exs 05"
   ]
  },
  {
   "attachments": {},
   "cell_type": "markdown",
   "metadata": {},
   "source": [
    "I use py 3.9.12 for this exersice"
   ]
  },
  {
   "attachments": {},
   "cell_type": "markdown",
   "metadata": {},
   "source": [
    "### Ex 01"
   ]
  },
  {
   "attachments": {},
   "cell_type": "markdown",
   "metadata": {},
   "source": [
    "1. create an empty tuple.\n",
    "2. create a tuple contatining names of your sisters and your brothers ,seperately.\n",
    "3. join brothers and sisters tuples and assign it to sibilings.\n",
    "4. How many sibilings do you have?\n",
    "5. Modify the sibilings tuple and add the name of your father and mother and assign it to family_members."
   ]
  },
  {
   "cell_type": "code",
   "execution_count": 7,
   "metadata": {},
   "outputs": [
    {
     "name": "stdout",
     "output_type": "stream",
     "text": [
      "******************* Question1 *******************\n",
      "() \n",
      "type= <class 'tuple'>\n",
      "******************* Question2 *******************\n",
      "Sisters: ('Maedeh', 'Shideh', 'Mahnoosh', 'Shiva')\n",
      "Brothers: ('Mohammad', 'Amir')\n",
      "******************* Question3 *******************\n",
      "Sibilings: ('Maedeh', 'Shideh', 'Mahnoosh', 'Shiva', 'Mohammad', 'Amir')\n",
      "******************* Question4 *******************\n",
      "The number of Sibilings is: 6\n",
      "******************* Question5 *******************\n",
      "Family Members: ('Maedeh', 'Shideh', 'Mahnoosh', 'Shiva', 'Mohammad', 'Amir', 'Ali', 'Leila')\n"
     ]
    }
   ],
   "source": [
    "# create an empty tuple\n",
    "tpl = ()\n",
    "print('******************* Question1 *******************')\n",
    "print(tpl,'\\ntype= {}'.format(type(tpl)))\n",
    "\n",
    "# create sisters and brothers tuple\n",
    "sisters = ('Maedeh','Shideh','Mahnoosh','Shiva')\n",
    "brothers = ('Mohammad','Amir')\n",
    "print('******************* Question2 *******************')\n",
    "print('Sisters: {}'.format(sisters))\n",
    "print('Brothers: {}'.format(brothers))\n",
    "\n",
    "# assign two tuples to sibilings\n",
    "print('******************* Question3 *******************')\n",
    "sibilings = sisters + brothers\n",
    "print('Sibilings: {}'.format(sibilings))\n",
    "\n",
    "# numbers of sibilings\n",
    "print('******************* Question4 *******************')\n",
    "sibilings_numbers = len(sibilings)\n",
    "print('The number of Sibilings is: {}'.format(sibilings_numbers))\n",
    "\n",
    "# create family_members\n",
    "print('******************* Question5 *******************')\n",
    "family_members = sibilings + ('Ali','Leila')\n",
    "print('Family Members: {}'.format(family_members))"
   ]
  },
  {
   "attachments": {},
   "cell_type": "markdown",
   "metadata": {},
   "source": [
    "### Ex 02"
   ]
  },
  {
   "attachments": {},
   "cell_type": "markdown",
   "metadata": {},
   "source": [
    "1. create fruits,vegetables and animal products tuples, seperately.\n",
    "2. Join the above three tuples and assign it to a variable called food_stuff_tp.\n",
    "3. change the above food_stuff_tp tuple to food_stuff_lt list.\n",
    "4. Slice out the middle item of items from the food_stuff_tp or food_stuff_lt. \n",
    "5. Slice out the first three items and the last three items from food_staff_lt list.\n",
    "6. Delete the food_staff_tp tuple completely."
   ]
  },
  {
   "cell_type": "code",
   "execution_count": 13,
   "metadata": {},
   "outputs": [
    {
     "name": "stdout",
     "output_type": "stream",
     "text": [
      "************** Question1 ***************\n",
      "fruits= ('apple', 'banana', 'orange', 'lemon') \n",
      " vegetables= ('brocli', 'onion') \n",
      " animal= ('ant', 'lion', 'cat', 'dog', 'horse')\n",
      "************** Question2 ***************\n",
      "food_stuff_tp= ('apple', 'banana', 'orange', 'lemon', 'brocli', 'onion', 'ant', 'lion', 'cat', 'dog', 'horse')\n",
      "************** Question3 ***************\n",
      "food_stuff_lt= ['apple', 'banana', 'orange', 'lemon', 'brocli', 'onion', 'ant', 'lion', 'cat', 'dog', 'horse']\n",
      "************** Question4 ***************\n",
      "middle of tuple = onion\n",
      "middle of list = onion\n",
      "************** Question5 ***************\n",
      "The first three items are ['apple', 'banana', 'orange'] The last three items are ['cat', 'dog', 'horse']\n",
      "************** Question6 ***************\n",
      " Delete the food_staff_tp tuple completely: ()\n"
     ]
    }
   ],
   "source": [
    "# create fruits tuple\n",
    "fruits = ('apple','banana','orange','lemon')\n",
    "\n",
    "# create vegetables tuple\n",
    "vegetables = ('brocli','onion')\n",
    "\n",
    "# create animal tuple\n",
    "animal = ('ant','lion','cat','dog','horse')\n",
    "\n",
    "# print Question1\n",
    "print('************** Question1 ***************')\n",
    "print('fruits= {}'.format(fruits) ,'\\n','vegetables= {}'.format(vegetables),'\\n',\n",
    "      'animal= {}'.format(animal))\n",
    "\n",
    "# join the above tuples\n",
    "food_stuff_tp = fruits + vegetables + animal\n",
    "\n",
    "# print Question2 \n",
    "print('************** Question2 ***************')\n",
    "print('food_stuff_tp= {}'.format(food_stuff_tp))\n",
    "\n",
    "# change tuple to list\n",
    "food_stuff_lt = list(food_stuff_tp)\n",
    "\n",
    "# print Question3\n",
    "print('************** Question3 ***************')\n",
    "print('food_stuff_lt= {}'.format(food_stuff_lt))\n",
    "\n",
    "# print the middle item of items from tuple\n",
    "middle_of_tp =food_stuff_tp[len(food_stuff_tp)//2]\n",
    "\n",
    "# print Question4\n",
    "print('************** Question4 ***************')\n",
    "print('middle of tuple = {}'.format(middle_of_tp))\n",
    "\n",
    "# print the middle item of items from list\n",
    "middle_of_lt =food_stuff_lt[len(food_stuff_lt)//2]\n",
    "print('middle of list = {}'.format(middle_of_lt))\n",
    "\n",
    "# the first three items\n",
    "first_three_items = food_stuff_lt[:3]\n",
    "# the last three items\n",
    "last_three_items = food_stuff_lt[-3::1] # yani 3 elemnt az akhar va az index -3 shoro kon ta akhar\n",
    "# ba step 1\n",
    "\n",
    "# print Question5\n",
    "print('************** Question5 ***************')\n",
    "print('The first three items are {}'.format(first_three_items) + ' ' +\n",
    " 'The last three items are {}'.format(last_three_items))\n",
    "\n",
    "#  delete the tuple completely\n",
    "# az keyword del estefade shode ke dar yek halghe be andazeye len list migzarim \n",
    "# va har bar element 0 az list ro delete mikonim\n",
    "t = list(food_stuff_tp)\n",
    "\n",
    "for i in range(0,len(t)):\n",
    "      del t[0]\n",
    "\n",
    "update_food_stuff_tp = tuple(t)\n",
    "\n",
    "# print Question6\n",
    "print('************** Question6 ***************')\n",
    "print(' Delete the food_staff_tp tuple completely: {}'.format(update_food_stuff_tp))\n",
    "\n"
   ]
  },
  {
   "attachments": {},
   "cell_type": "markdown",
   "metadata": {},
   "source": [
    "### Ex 03"
   ]
  },
  {
   "attachments": {},
   "cell_type": "markdown",
   "metadata": {},
   "source": [
    "1. Check if 'Estonia' is a nordic country, print True, Otherwise print False!\n",
    "2. Check if 'Iceland' is a nordic country, print True, Otherwise print False!"
   ]
  },
  {
   "cell_type": "code",
   "execution_count": 25,
   "metadata": {},
   "outputs": [],
   "source": [
    "nordic_countries = ('Denmark', 'Finland','Iceland', 'Norway', 'Sweden')"
   ]
  },
  {
   "cell_type": "code",
   "execution_count": 28,
   "metadata": {},
   "outputs": [
    {
     "name": "stdout",
     "output_type": "stream",
     "text": [
      "False!Estonia is not a nordic country\n"
     ]
    }
   ],
   "source": [
    "# question1\n",
    "if 'Estonia' in nordic_countries:\n",
    "    print('True.Estonia is a nordic country')\n",
    "else:\n",
    "    print('False!Estonia is not a nordic country')"
   ]
  },
  {
   "cell_type": "code",
   "execution_count": 29,
   "metadata": {},
   "outputs": [
    {
     "name": "stdout",
     "output_type": "stream",
     "text": [
      "True.Iceland is a nordic country\n"
     ]
    }
   ],
   "source": [
    "# question2\n",
    "if 'Iceland' in nordic_countries:\n",
    "    print('True.Iceland is a nordic country')\n",
    "else:\n",
    "    print('False!Iceland is not a nordic country')"
   ]
  }
 ],
 "metadata": {
  "kernelspec": {
   "display_name": "py3.9",
   "language": "python",
   "name": "python3"
  },
  "language_info": {
   "codemirror_mode": {
    "name": "ipython",
    "version": 3
   },
   "file_extension": ".py",
   "mimetype": "text/x-python",
   "name": "python",
   "nbconvert_exporter": "python",
   "pygments_lexer": "ipython3",
   "version": "3.9.12"
  },
  "orig_nbformat": 4,
  "vscode": {
   "interpreter": {
    "hash": "365f1c88add7cf58324fbb6170f2cf259372affc8e8e36bcf6c529566a570412"
   }
  }
 },
 "nbformat": 4,
 "nbformat_minor": 2
}
