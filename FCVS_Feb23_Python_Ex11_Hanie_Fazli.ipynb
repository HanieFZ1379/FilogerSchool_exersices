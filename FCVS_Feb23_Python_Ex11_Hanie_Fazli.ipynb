{
  "cells": [
    {
      "cell_type": "markdown",
      "metadata": {
        "id": "E7WA0aunmZOi"
      },
      "source": [
        "# FirstName:Hanie\n",
        "\n",
        "# LastName: Fazli"
      ]
    },
    {
      "cell_type": "markdown",
      "metadata": {
        "id": "FHTSZWhwmZOl"
      },
      "source": [
        "# Exs 11"
      ]
    },
    {
      "cell_type": "markdown",
      "metadata": {
        "id": "QB8otgqImZOm"
      },
      "source": [
        "I use py 3.9.12 for this exersice"
      ]
    },
    {
      "cell_type": "markdown",
      "metadata": {
        "id": "217shuU8mZOm"
      },
      "source": [
        "### Ex 01"
      ]
    },
    {
      "cell_type": "markdown",
      "metadata": {
        "id": "zPIH8JDsmZOn"
      },
      "source": [
        "print the type of error and handle that.\n",
        "\n",
        "(Use specific and General Exception)\n",
        "\n",
        "company = 'Filgoer!'\n",
        "\n",
        "print(car)"
      ]
    },
    {
      "cell_type": "code",
      "execution_count": null,
      "metadata": {
        "colab": {
          "base_uri": "https://localhost:8080/",
          "height": 186
        },
        "id": "9lA3_ipYmZOn",
        "outputId": "2aaeed39-a230-45ee-b312-b5feba204ea0"
      },
      "outputs": [
        {
          "ename": "NameError",
          "evalue": "ignored",
          "output_type": "error",
          "traceback": [
            "\u001b[0;31m---------------------------------------------------------------------------\u001b[0m",
            "\u001b[0;31mNameError\u001b[0m                                 Traceback (most recent call last)",
            "\u001b[0;32m<ipython-input-1-39d9d8a91a65>\u001b[0m in \u001b[0;36m<module>\u001b[0;34m\u001b[0m\n\u001b[1;32m      1\u001b[0m \u001b[0mcompany\u001b[0m \u001b[0;34m=\u001b[0m \u001b[0;34m'Filgoer!'\u001b[0m\u001b[0;34m\u001b[0m\u001b[0;34m\u001b[0m\u001b[0m\n\u001b[0;32m----> 2\u001b[0;31m \u001b[0mprint\u001b[0m\u001b[0;34m(\u001b[0m\u001b[0mcar\u001b[0m\u001b[0;34m)\u001b[0m\u001b[0;34m\u001b[0m\u001b[0;34m\u001b[0m\u001b[0m\n\u001b[0m",
            "\u001b[0;31mNameError\u001b[0m: name 'car' is not defined"
          ]
        }
      ],
      "source": [
        "company = 'Filgoer!'\n",
        "print(car)"
      ]
    },
    {
      "cell_type": "code",
      "execution_count": null,
      "metadata": {
        "colab": {
          "base_uri": "https://localhost:8080/"
        },
        "id": "Ywp9-DQVmZOo",
        "outputId": "f11adab2-d677-42d1-b328-2c79e2a29b97"
      },
      "outputs": [
        {
          "name": "stdout",
          "output_type": "stream",
          "text": [
            "name 'car' is not defined\n",
            "please define name 'car' as a variable\n"
          ]
        }
      ],
      "source": [
        "# handing\n",
        "try:\n",
        "    company = 'Filgoer!'\n",
        "    print(car)\n",
        "except NameError as error: # specific exception\n",
        "    print(error)\n",
        "    print('please define name \\'car\\' as a variable')\n",
        "except Exception as error: # General exception\n",
        "    print(error)"
      ]
    },
    {
      "cell_type": "markdown",
      "metadata": {
        "id": "KNczsBzFmZOp"
      },
      "source": [
        "### Ex 02"
      ]
    },
    {
      "cell_type": "markdown",
      "metadata": {
        "id": "5wXavouSmZOq"
      },
      "source": [
        "print the type of error and handle that.\n",
        "\n",
        "(Use specific and General Exception)\n",
        "\n",
        "company = 'Filgoer!\n",
        "\n",
        "print(company)"
      ]
    },
    {
      "cell_type": "code",
      "execution_count": null,
      "metadata": {
        "id": "DgWKkHPTmZOq",
        "outputId": "478f1ca7-8cfd-47e3-e7c8-9b2cbaf7fa6f"
      },
      "outputs": [
        {
          "ename": "SyntaxError",
          "evalue": "EOL while scanning string literal (3518236280.py, line 1)",
          "output_type": "error",
          "traceback": [
            "\u001b[0;36m  Cell \u001b[0;32mIn[14], line 1\u001b[0;36m\u001b[0m\n\u001b[0;31m    company = 'Filgoer!\u001b[0m\n\u001b[0m                       ^\u001b[0m\n\u001b[0;31mSyntaxError\u001b[0m\u001b[0;31m:\u001b[0m EOL while scanning string literal\n"
          ]
        }
      ],
      "source": [
        "company = 'Filgoer!\n",
        "print(company)"
      ]
    },
    {
      "cell_type": "code",
      "execution_count": null,
      "metadata": {
        "id": "aQ8Np49ImZOq",
        "outputId": "941b9731-dfa1-45d5-baa3-43dbaa2e38de"
      },
      "outputs": [
        {
          "ename": "SyntaxError",
          "evalue": "EOL while scanning string literal (3425569244.py, line 3)",
          "output_type": "error",
          "traceback": [
            "\u001b[0;36m  Cell \u001b[0;32mIn[13], line 3\u001b[0;36m\u001b[0m\n\u001b[0;31m    company = 'Filgoer!\u001b[0m\n\u001b[0m                       ^\u001b[0m\n\u001b[0;31mSyntaxError\u001b[0m\u001b[0;31m:\u001b[0m EOL while scanning string literal\n"
          ]
        }
      ],
      "source": [
        "# handing\n",
        "try:\n",
        "    company = 'Filgoer!\n",
        "    print(company)\n",
        "except SyntaxError as error: # specific exception\n",
        "    print(error)\n",
        "    print('Type of error is : SyntaxError')\n",
        "except Exception as error: # General exception\n",
        "    print(error)"
      ]
    },
    {
      "cell_type": "markdown",
      "metadata": {
        "id": "epf5zfcrqKgc"
      },
      "source": [
        "علت رخ دادن این ارور این هست که خطاهای سینتکسی را نمی توان با ترای و اکسپت هندل\n",
        "\n",
        " کرد و تنها برای خطاهای معنایی می توان با استفاده از ترای-اکسپت این خطاها را  \n",
        " \n",
        " هندل کرد. مثال:\n",
        "\n",
        "ZeroDivisionError\n",
        "\n",
        "FileNotFoundError\n",
        "\n",
        "TypeError\n",
        "\n",
        "MemoryError\n",
        "\n",
        "IndexError\n",
        "\n",
        "KeyError"
      ]
    },
    {
      "cell_type": "markdown",
      "metadata": {
        "id": "EoD_wsbrs2NB"
      },
      "source": [
        "### Ex 03"
      ]
    },
    {
      "cell_type": "markdown",
      "metadata": {
        "id": "8festm7Ps5ed"
      },
      "source": [
        "  print the type of error and handle that.\n",
        "\n",
        "(Use specific and General Exception)\n",
        "\n",
        "company = 'Filoger!'\n",
        "\n",
        "print(company+5)"
      ]
    },
    {
      "cell_type": "code",
      "execution_count": null,
      "metadata": {
        "colab": {
          "base_uri": "https://localhost:8080/",
          "height": 186
        },
        "id": "fPMDK7xgmZOr",
        "outputId": "7daa4ac5-4819-4bc5-d517-aed9ab1d76b1"
      },
      "outputs": [
        {
          "ename": "TypeError",
          "evalue": "ignored",
          "output_type": "error",
          "traceback": [
            "\u001b[0;31m---------------------------------------------------------------------------\u001b[0m",
            "\u001b[0;31mTypeError\u001b[0m                                 Traceback (most recent call last)",
            "\u001b[0;32m<ipython-input-3-aba9676b30a8>\u001b[0m in \u001b[0;36m<module>\u001b[0;34m\u001b[0m\n\u001b[1;32m      1\u001b[0m \u001b[0mcompany\u001b[0m \u001b[0;34m=\u001b[0m \u001b[0;34m'Filoger!'\u001b[0m\u001b[0;34m\u001b[0m\u001b[0;34m\u001b[0m\u001b[0m\n\u001b[0;32m----> 2\u001b[0;31m \u001b[0mprint\u001b[0m\u001b[0;34m(\u001b[0m\u001b[0mcompany\u001b[0m\u001b[0;34m+\u001b[0m\u001b[0;36m5\u001b[0m\u001b[0;34m)\u001b[0m\u001b[0;34m\u001b[0m\u001b[0;34m\u001b[0m\u001b[0m\n\u001b[0m",
            "\u001b[0;31mTypeError\u001b[0m: can only concatenate str (not \"int\") to str"
          ]
        }
      ],
      "source": [
        "company = 'Filoger!'\n",
        "print(company+5)"
      ]
    },
    {
      "cell_type": "code",
      "execution_count": null,
      "metadata": {
        "colab": {
          "base_uri": "https://localhost:8080/"
        },
        "id": "_9Jxepa5tH2z",
        "outputId": "fd002a33-7e48-4b94-b8da-ca67fd81700d"
      },
      "outputs": [
        {
          "name": "stdout",
          "output_type": "stream",
          "text": [
            "can only concatenate str (not \"int\") to str\n"
          ]
        }
      ],
      "source": [
        "try:\n",
        "  company = 'Filoger!'\n",
        "  print(company+5)\n",
        "except TypeError as error:\n",
        "  print(error)\n",
        "except Exception as error:\n",
        "  print(error)"
      ]
    },
    {
      "cell_type": "markdown",
      "metadata": {
        "id": "I-jayThztjqm"
      },
      "source": [
        "## Ex04"
      ]
    },
    {
      "cell_type": "markdown",
      "metadata": {
        "id": "EtUxqajYtju7"
      },
      "source": [
        "print the type of the error and handle that.\n",
        "\n",
        "(Use specific and General Exception)\n",
        "\n",
        "company = 'Filoger!'\n",
        "\n",
        "print(company[25])"
      ]
    },
    {
      "cell_type": "code",
      "execution_count": null,
      "metadata": {
        "colab": {
          "base_uri": "https://localhost:8080/",
          "height": 186
        },
        "id": "WqveWxZftfTu",
        "outputId": "637bd225-ebf6-4ad9-ef73-128e0b2b22c7"
      },
      "outputs": [
        {
          "ename": "IndexError",
          "evalue": "ignored",
          "output_type": "error",
          "traceback": [
            "\u001b[0;31m---------------------------------------------------------------------------\u001b[0m",
            "\u001b[0;31mIndexError\u001b[0m                                Traceback (most recent call last)",
            "\u001b[0;32m<ipython-input-5-2f5504ead8b2>\u001b[0m in \u001b[0;36m<module>\u001b[0;34m\u001b[0m\n\u001b[1;32m      1\u001b[0m \u001b[0mcompany\u001b[0m \u001b[0;34m=\u001b[0m \u001b[0;34m'Filoger!'\u001b[0m\u001b[0;34m\u001b[0m\u001b[0;34m\u001b[0m\u001b[0m\n\u001b[0;32m----> 2\u001b[0;31m \u001b[0mprint\u001b[0m\u001b[0;34m(\u001b[0m\u001b[0mcompany\u001b[0m\u001b[0;34m[\u001b[0m\u001b[0;36m25\u001b[0m\u001b[0;34m]\u001b[0m\u001b[0;34m)\u001b[0m\u001b[0;34m\u001b[0m\u001b[0;34m\u001b[0m\u001b[0m\n\u001b[0m",
            "\u001b[0;31mIndexError\u001b[0m: string index out of range"
          ]
        }
      ],
      "source": [
        "company = 'Filoger!'\n",
        "print(company[25])"
      ]
    },
    {
      "cell_type": "code",
      "execution_count": null,
      "metadata": {
        "colab": {
          "base_uri": "https://localhost:8080/"
        },
        "id": "t6bJ4bcFt0x6",
        "outputId": "1fe23cbe-e5de-4db0-96bd-7eba09f215b6"
      },
      "outputs": [
        {
          "name": "stdout",
          "output_type": "stream",
          "text": [
            "string index out of range\n"
          ]
        }
      ],
      "source": [
        "try:\n",
        "  company = 'Filoger!'\n",
        "  print(company[25])\n",
        "except IndexError as error:\n",
        "  print(error)\n",
        "except Exception as error:\n",
        "  print(error)"
      ]
    },
    {
      "cell_type": "markdown",
      "metadata": {
        "id": "kD6PllaUuGzL"
      },
      "source": [
        "## Ex05"
      ]
    },
    {
      "cell_type": "markdown",
      "metadata": {
        "id": "AA-uBoSSuG2K"
      },
      "source": [
        "print the type of error and handle that.\n",
        "\n",
        "(Use specific and General Exception)\n",
        "\n",
        "dict = {'Python': 2, 'DIP': 7, 'DL': 8}\n",
        "\n",
        "print (dict['CV'])"
      ]
    },
    {
      "cell_type": "code",
      "execution_count": null,
      "metadata": {
        "colab": {
          "base_uri": "https://localhost:8080/",
          "height": 186
        },
        "id": "FRjKc_7-uExk",
        "outputId": "592b00f2-eb6d-4604-ae59-bda45902e8fd"
      },
      "outputs": [
        {
          "ename": "KeyError",
          "evalue": "ignored",
          "output_type": "error",
          "traceback": [
            "\u001b[0;31m---------------------------------------------------------------------------\u001b[0m",
            "\u001b[0;31mKeyError\u001b[0m                                  Traceback (most recent call last)",
            "\u001b[0;32m<ipython-input-7-552cb75ea46c>\u001b[0m in \u001b[0;36m<module>\u001b[0;34m\u001b[0m\n\u001b[1;32m      1\u001b[0m \u001b[0mdict\u001b[0m \u001b[0;34m=\u001b[0m \u001b[0;34m{\u001b[0m\u001b[0;34m'Python'\u001b[0m\u001b[0;34m:\u001b[0m \u001b[0;36m2\u001b[0m\u001b[0;34m,\u001b[0m \u001b[0;34m'DIP'\u001b[0m\u001b[0;34m:\u001b[0m \u001b[0;36m7\u001b[0m\u001b[0;34m,\u001b[0m \u001b[0;34m'DL'\u001b[0m\u001b[0;34m:\u001b[0m \u001b[0;36m8\u001b[0m\u001b[0;34m}\u001b[0m\u001b[0;34m\u001b[0m\u001b[0;34m\u001b[0m\u001b[0m\n\u001b[0;32m----> 2\u001b[0;31m \u001b[0mprint\u001b[0m \u001b[0;34m(\u001b[0m\u001b[0mdict\u001b[0m\u001b[0;34m[\u001b[0m\u001b[0;34m'CV'\u001b[0m\u001b[0;34m]\u001b[0m\u001b[0;34m)\u001b[0m\u001b[0;34m\u001b[0m\u001b[0;34m\u001b[0m\u001b[0m\n\u001b[0m",
            "\u001b[0;31mKeyError\u001b[0m: 'CV'"
          ]
        }
      ],
      "source": [
        "dict = {'Python': 2, 'DIP': 7, 'DL': 8}\n",
        "print (dict['CV'])"
      ]
    },
    {
      "cell_type": "code",
      "execution_count": null,
      "metadata": {
        "colab": {
          "base_uri": "https://localhost:8080/"
        },
        "id": "Sgw0p26luWoU",
        "outputId": "aeaea9ba-4425-4e63-f7d7-423809f1075e"
      },
      "outputs": [
        {
          "name": "stdout",
          "output_type": "stream",
          "text": [
            "'CV'\n"
          ]
        }
      ],
      "source": [
        "try:\n",
        "  dict = {'Python': 2, 'DIP': 7, 'DL': 8}\n",
        "  print (dict['CV'])\n",
        "except KeyError as error:\n",
        "  print(error)\n",
        "except Exception as error:\n",
        "  print(error)"
      ]
    },
    {
      "cell_type": "markdown",
      "metadata": {
        "id": "uBybsb9Zut-6"
      },
      "source": [
        "## Ex06"
      ]
    },
    {
      "cell_type": "markdown",
      "metadata": {
        "id": "Uy-me-s3uuBd"
      },
      "source": [
        "print the type of error and handle that.\n",
        "\n",
        "(Use specific and General Exception)\n",
        "\n",
        "code = '45145GT'\n",
        "\n",
        "int(code)"
      ]
    },
    {
      "cell_type": "code",
      "execution_count": null,
      "metadata": {
        "colab": {
          "base_uri": "https://localhost:8080/",
          "height": 186
        },
        "id": "KMnhKS0VurTy",
        "outputId": "52423521-d8b8-442b-e9aa-8949ec0124df"
      },
      "outputs": [
        {
          "ename": "ValueError",
          "evalue": "ignored",
          "output_type": "error",
          "traceback": [
            "\u001b[0;31m---------------------------------------------------------------------------\u001b[0m",
            "\u001b[0;31mValueError\u001b[0m                                Traceback (most recent call last)",
            "\u001b[0;32m<ipython-input-9-3ac9977b9c13>\u001b[0m in \u001b[0;36m<module>\u001b[0;34m\u001b[0m\n\u001b[1;32m      1\u001b[0m \u001b[0mcode\u001b[0m \u001b[0;34m=\u001b[0m \u001b[0;34m'45145GT'\u001b[0m\u001b[0;34m\u001b[0m\u001b[0;34m\u001b[0m\u001b[0m\n\u001b[0;32m----> 2\u001b[0;31m \u001b[0mint\u001b[0m\u001b[0;34m(\u001b[0m\u001b[0mcode\u001b[0m\u001b[0;34m)\u001b[0m\u001b[0;34m\u001b[0m\u001b[0;34m\u001b[0m\u001b[0m\n\u001b[0m",
            "\u001b[0;31mValueError\u001b[0m: invalid literal for int() with base 10: '45145GT'"
          ]
        }
      ],
      "source": [
        "code = '45145GT'\n",
        "int(code)"
      ]
    },
    {
      "cell_type": "code",
      "execution_count": null,
      "metadata": {
        "colab": {
          "base_uri": "https://localhost:8080/"
        },
        "id": "D7S06RSNu6ey",
        "outputId": "e900fa8a-e67f-432f-fbf8-f0f183496d4f"
      },
      "outputs": [
        {
          "name": "stdout",
          "output_type": "stream",
          "text": [
            "invalid literal for int() with base 10: '45145GT'\n"
          ]
        }
      ],
      "source": [
        "try:\n",
        "  code = '45145GT'\n",
        "  int(code)\n",
        "except ValueError as error:\n",
        "  print(error)\n",
        "except Exception as error:\n",
        "  print(error)"
      ]
    }
  ],
  "metadata": {
    "colab": {
      "provenance": []
    },
    "kernelspec": {
      "display_name": "py3.9",
      "language": "python",
      "name": "py3.9"
    },
    "language_info": {
      "codemirror_mode": {
        "name": "ipython",
        "version": 3
      },
      "file_extension": ".py",
      "mimetype": "text/x-python",
      "name": "python",
      "nbconvert_exporter": "python",
      "pygments_lexer": "ipython3",
      "version": "3.9.12"
    },
    "vscode": {
      "interpreter": {
        "hash": "365f1c88add7cf58324fbb6170f2cf259372affc8e8e36bcf6c529566a570412"
      }
    }
  },
  "nbformat": 4,
  "nbformat_minor": 0
}
