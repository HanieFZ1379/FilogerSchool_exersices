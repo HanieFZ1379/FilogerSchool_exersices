{
 "cells": [
  {
   "attachments": {},
   "cell_type": "markdown",
   "metadata": {},
   "source": [
    "# FirstName:Hanie\n",
    "\n",
    "# LastName: Fazli"
   ]
  },
  {
   "attachments": {},
   "cell_type": "markdown",
   "metadata": {},
   "source": [
    "# Exs 10"
   ]
  },
  {
   "attachments": {},
   "cell_type": "markdown",
   "metadata": {},
   "source": [
    "I use py 3.9.12 for this exersice"
   ]
  },
  {
   "attachments": {},
   "cell_type": "markdown",
   "metadata": {},
   "source": [
    "### Ex 01"
   ]
  },
  {
   "attachments": {},
   "cell_type": "markdown",
   "metadata": {},
   "source": [
    "Write a Python function to calculate first n numbers of Fibonacci sequence. (n is function input)\n",
    "\n",
    "points:\n",
    "\n",
    "Use recursion to solve the question!\n",
    "\n",
    "input: 7, output: 0 1 1 2 3 5 8"
   ]
  },
  {
   "cell_type": "code",
   "execution_count": 2,
   "metadata": {},
   "outputs": [
    {
     "name": "stdout",
     "output_type": "stream",
     "text": [
      "input: 7, output: 0 1 1 2 3 5 8 "
     ]
    }
   ],
   "source": [
    "def fibonacci_recursion(num):\n",
    "    # chek if input is 0 then it will print incorrect input\n",
    "    if num < 0:\n",
    "        print('Incorrect Input!!!')\n",
    "    # check if num is 0 then return 0\n",
    "    elif num == 0:\n",
    "        return 0\n",
    "    # check if num is 1 or 2 it will return 1\n",
    "    elif num == 1 or num == 2:\n",
    "        return 1\n",
    "    else:\n",
    "        return fibonacci_recursion(num-1) + fibonacci_recursion(num-2)\n",
    "\n",
    "# get number of n first sequences of Fibonacci\n",
    "n = int(input('Enter number: '))\n",
    "print(f'input: {n}, output:',end=\" \")\n",
    "for i in range(0,n):\n",
    "    print(fibonacci_recursion(i), end=\" \")"
   ]
  }
 ],
 "metadata": {
  "kernelspec": {
   "display_name": "py3.9",
   "language": "python",
   "name": "python3"
  },
  "language_info": {
   "codemirror_mode": {
    "name": "ipython",
    "version": 3
   },
   "file_extension": ".py",
   "mimetype": "text/x-python",
   "name": "python",
   "nbconvert_exporter": "python",
   "pygments_lexer": "ipython3",
   "version": "3.9.12"
  },
  "orig_nbformat": 4,
  "vscode": {
   "interpreter": {
    "hash": "365f1c88add7cf58324fbb6170f2cf259372affc8e8e36bcf6c529566a570412"
   }
  }
 },
 "nbformat": 4,
 "nbformat_minor": 2
}
