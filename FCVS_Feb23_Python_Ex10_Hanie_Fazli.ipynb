{
  "cells": [
    {
      "cell_type": "markdown",
      "metadata": {
        "id": "Y56YwdtUwmGV"
      },
      "source": [
        "# FirstName:Hanie\n",
        "\n",
        "# LastName: Fazli"
      ]
    },
    {
      "cell_type": "markdown",
      "metadata": {
        "id": "0jmUgErIwmGZ"
      },
      "source": [
        "# Exs 10"
      ]
    },
    {
      "cell_type": "markdown",
      "metadata": {
        "id": "J9pgd86_wmGa"
      },
      "source": [
        "I use py 3.9.12 for this exersice"
      ]
    },
    {
      "cell_type": "markdown",
      "metadata": {
        "id": "mfbxHrIpwmGa"
      },
      "source": [
        "### Ex 01"
      ]
    },
    {
      "cell_type": "markdown",
      "metadata": {
        "id": "fwM_vxLKwmGa"
      },
      "source": [
        "Write a Python function to calculate first n numbers of Fibonacci sequence. (n is function input)\n",
        "\n",
        "points:\n",
        "\n",
        "Use recursion to solve the question!\n",
        "\n",
        "input: 7, output: 0 1 1 2 3 5 8"
      ]
    },
    {
      "cell_type": "code",
      "execution_count": 1,
      "metadata": {
        "colab": {
          "base_uri": "https://localhost:8080/"
        },
        "id": "7-bB9UM4wmGb",
        "outputId": "d0ed463a-19f0-4e90-be0e-d70ed42712e4"
      },
      "outputs": [
        {
          "output_type": "stream",
          "name": "stdout",
          "text": [
            "Enter number: 7\n",
            "input: 7, output: 0 1 1 2 3 5 8 "
          ]
        }
      ],
      "source": [
        "def fibonacci_recursion(num):\n",
        "    # chek if input is 0 then it will print incorrect input\n",
        "    if num < 0:\n",
        "        print('Incorrect Input!!!')\n",
        "    # check if num is 0 then return 0\n",
        "    elif num == 0:\n",
        "        return 0\n",
        "    # check if num is 1 or 2 it will return 1\n",
        "    elif num == 1 or num == 2:\n",
        "        return 1\n",
        "    else:\n",
        "        return fibonacci_recursion(num-1) + fibonacci_recursion(num-2)\n",
        "\n",
        "# get number of n first sequences of Fibonacci\n",
        "n = int(input('Enter number: '))\n",
        "print(f'input: {n}, output:',end=\" \")\n",
        "for i in range(0,n):\n",
        "    print(fibonacci_recursion(i), end=\" \")"
      ]
    }
  ],
  "metadata": {
    "kernelspec": {
      "display_name": "py3.9",
      "language": "python",
      "name": "python3"
    },
    "language_info": {
      "codemirror_mode": {
        "name": "ipython",
        "version": 3
      },
      "file_extension": ".py",
      "mimetype": "text/x-python",
      "name": "python",
      "nbconvert_exporter": "python",
      "pygments_lexer": "ipython3",
      "version": "3.9.12"
    },
    "orig_nbformat": 4,
    "vscode": {
      "interpreter": {
        "hash": "365f1c88add7cf58324fbb6170f2cf259372affc8e8e36bcf6c529566a570412"
      }
    },
    "colab": {
      "provenance": []
    }
  },
  "nbformat": 4,
  "nbformat_minor": 0
}