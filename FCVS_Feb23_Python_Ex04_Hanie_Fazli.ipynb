{
 "cells": [
  {
   "attachments": {},
   "cell_type": "markdown",
   "metadata": {},
   "source": [
    "FirstName:Hanie\n",
    "\n",
    "LastName: Fazli"
   ]
  },
  {
   "attachments": {},
   "cell_type": "markdown",
   "metadata": {},
   "source": [
    "# Exs 04"
   ]
  },
  {
   "attachments": {},
   "cell_type": "markdown",
   "metadata": {},
   "source": [
    "I use py 3.9.12 for this exersice"
   ]
  },
  {
   "attachments": {},
   "cell_type": "markdown",
   "metadata": {},
   "source": [
    "### Ex 01"
   ]
  },
  {
   "attachments": {},
   "cell_type": "markdown",
   "metadata": {},
   "source": [
    "The following is a list of 10 students ages:\n",
    "\n",
    "ages = [19,22,19,24,20,25,26,24,25,24]\n",
    "\n",
    "1. Sort the list and find the min and max age.\n",
    "2. Add the min and max age again to the list.\n",
    "3. Find the median age (one middle item or two middle items divided by two)\n",
    "4. Find the average age(sum of all items divided by their number)\n",
    "5. Find the range of the ages(max minus min)\n",
    "6. compare the value of (min - average) and (max - average ), use abs() mehtod"
   ]
  },
  {
   "cell_type": "code",
   "execution_count": 1,
   "metadata": {},
   "outputs": [
    {
     "name": "stdout",
     "output_type": "stream",
     "text": [
      "Sorted:  [19, 19, 20, 22, 24, 24, 24, 25, 25, 26]\n",
      "Removed max and min from list: ages= [19, 20, 22, 24, 24, 24, 25, 25]\n"
     ]
    }
   ],
   "source": [
    "\"\"\"\n",
    "first define the list \n",
    "then use sort method ti sort\n",
    "the list of ages then remove max \n",
    "and min of list with remove() method \n",
    "then print the list in output. \n",
    "\"\"\"\n",
    "################ Question 1 ##################\n",
    "# define ages list\n",
    "ages = [19,22,19,24,20,25,26,24,25,24]\n",
    "\n",
    "# sort the list\n",
    "ages.sort()\n",
    "\n",
    "#  show the sorted of list in output(optional)\n",
    "print('Sorted: ',ages)\n",
    "\n",
    "# find max and min \n",
    "max_element  = ages[-1] # After sorted ,the last element of the list is maximum\n",
    "min_element = ages[0] # After sorted, the first element of the list is minimum\n",
    "\n",
    "# now remove max and min from list\n",
    "ages.remove(max_element)\n",
    "ages.remove(min_element)\n",
    "\n",
    "# print the result in output\n",
    "print('Removed max and min from list: ages= {}'.format(ages))"
   ]
  },
  {
   "cell_type": "code",
   "execution_count": 2,
   "metadata": {},
   "outputs": [
    {
     "name": "stdout",
     "output_type": "stream",
     "text": [
      "ages= [19, 20, 22, 24, 24, 24, 25, 25, 26, 19]\n"
     ]
    }
   ],
   "source": [
    "################ Question 2 ##################\n",
    "# add max and min to the list with append() method\n",
    "ages.extend([max_element,min_element])\n",
    "# print the result in the output\n",
    "print('ages= {}'.format(ages))"
   ]
  },
  {
   "cell_type": "code",
   "execution_count": 6,
   "metadata": {},
   "outputs": [
    {
     "name": "stdout",
     "output_type": "stream",
     "text": [
      "The median of the list is 24.0.\n"
     ]
    }
   ],
   "source": [
    "################ Question 3 ##################\n",
    "# for find the median first sort the list\n",
    "ages.sort()\n",
    "\n",
    "\"\"\" \n",
    "then calculate the len of the list and\n",
    "If the length of the list is an even number,\n",
    "must calculate the average of the two middle numbers, \n",
    "otherwise the middle number is known as the median of the list.\n",
    "\"\"\"\n",
    "\n",
    "length_ages = len(ages)\n",
    "if length_ages % 2 == 0 :\n",
    "    median = float( ( ages[int(length_ages/2)] + ages[(int(length_ages/2))-1] )/2 ) # median for len=10 is (ages[5] + ages[4])/2\n",
    "else:\n",
    "    median = ages[int(length_ages/2)]\n",
    "\n",
    "# print the median in the output\n",
    "print('The median of the list is {}.'.format(median))\n",
    "\n"
   ]
  },
  {
   "cell_type": "code",
   "execution_count": 7,
   "metadata": {},
   "outputs": [
    {
     "name": "stdout",
     "output_type": "stream",
     "text": [
      "The average of ages is 22.8.\n"
     ]
    }
   ],
   "source": [
    "################ Question 4 ##################\n",
    "\"\"\"\n",
    "first write a loop to summation \n",
    "all elements of list\n",
    "then calculate length of the\n",
    "list with len() method \n",
    "then calculate the average \n",
    "\"\"\"\n",
    "# define sum variable\n",
    "sum = 0\n",
    "for element in ages:\n",
    "    sum += element\n",
    "\n",
    "# calculate average\n",
    "average = float( sum / len(ages) )\n",
    "\n",
    "# print the average in the output\n",
    "print('The average of ages is {}.'.format(average))"
   ]
  },
  {
   "cell_type": "code",
   "execution_count": 8,
   "metadata": {},
   "outputs": [
    {
     "name": "stdout",
     "output_type": "stream",
     "text": [
      "The range of the ages is 7.\n"
     ]
    }
   ],
   "source": [
    "################ Question 5 ##################\n",
    "\"\"\"\n",
    "just calculate max - min  \n",
    "\"\"\"\n",
    "range_of_list = max_element - min_element\n",
    "print('The range of the ages is {}.'.format(range_of_list))"
   ]
  },
  {
   "cell_type": "code",
   "execution_count": 10,
   "metadata": {},
   "outputs": [
    {
     "name": "stdout",
     "output_type": "stream",
     "text": [
      "The value of max-average(4) is higher than min-average(3)\n"
     ]
    }
   ],
   "source": [
    "################ Question 6 ##################\n",
    "minus1 = abs(min_element - int(average)) \n",
    "minus2 = abs(max_element - int(average))\n",
    "\n",
    "# compare the value of min-average and max-average \n",
    "if minus2 > minus1:\n",
    "    print('The value of max-average({0}) is higher than min-average({1})'.format(minus2,minus1))\n",
    "elif minus2 < minus1:\n",
    "    print('The value of max-average({0}) is lower than min-average({1})'.format(minus2,minus1))\n",
    "else:\n",
    "    print('The value of max-average({0}) and min-average({1}) are equal'.format(minus2,minus1))"
   ]
  }
 ],
 "metadata": {
  "kernelspec": {
   "display_name": "py3.9",
   "language": "python",
   "name": "python3"
  },
  "language_info": {
   "codemirror_mode": {
    "name": "ipython",
    "version": 3
   },
   "file_extension": ".py",
   "mimetype": "text/x-python",
   "name": "python",
   "nbconvert_exporter": "python",
   "pygments_lexer": "ipython3",
   "version": "3.9.12"
  },
  "orig_nbformat": 4,
  "vscode": {
   "interpreter": {
    "hash": "365f1c88add7cf58324fbb6170f2cf259372affc8e8e36bcf6c529566a570412"
   }
  }
 },
 "nbformat": 4,
 "nbformat_minor": 2
}
