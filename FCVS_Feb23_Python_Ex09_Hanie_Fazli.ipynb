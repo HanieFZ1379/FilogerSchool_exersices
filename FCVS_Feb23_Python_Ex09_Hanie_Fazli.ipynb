{
 "cells": [
  {
   "attachments": {},
   "cell_type": "markdown",
   "metadata": {},
   "source": [
    "FirstName:Hanie\n",
    "\n",
    "LastName: Fazli"
   ]
  },
  {
   "attachments": {},
   "cell_type": "markdown",
   "metadata": {},
   "source": [
    "# Exs 09"
   ]
  },
  {
   "attachments": {},
   "cell_type": "markdown",
   "metadata": {},
   "source": [
    "I use py 3.9.12 for this exersice"
   ]
  },
  {
   "attachments": {},
   "cell_type": "markdown",
   "metadata": {},
   "source": [
    "### Ex 01"
   ]
  },
  {
   "attachments": {},
   "cell_type": "markdown",
   "metadata": {},
   "source": [
    "Write a Python function to print the odd numbers from a given list.\n",
    "\n",
    "Sample List : [1, 2, 3, 4, 5, 6, 7, 8, 9], Expected Result : [1, 3, 5, 7, 9]"
   ]
  },
  {
   "cell_type": "code",
   "execution_count": 2,
   "metadata": {},
   "outputs": [
    {
     "name": "stdout",
     "output_type": "stream",
     "text": [
      "Sample List : [1, 2, 3, 4, 5, 6, 7, 8, 9], Expected Result : [1, 3, 5, 7, 9]\n"
     ]
    }
   ],
   "source": [
    "def find_odd_numbers(numbers_ls):\n",
    "    expected_result = list()\n",
    "    for number in numbers_ls:\n",
    "        if number % 2 != 0 :\n",
    "            expected_result.append(number)\n",
    "        else:\n",
    "            continue\n",
    "    print(f'Sample List : {numbers_ls}, Expected Result : {expected_result}')\n",
    "\n",
    "# call the above function and give sample list as input of this function\n",
    "find_odd_numbers([1, 2, 3, 4, 5, 6, 7, 8, 9])"
   ]
  }
 ],
 "metadata": {
  "kernelspec": {
   "display_name": "py3.9",
   "language": "python",
   "name": "python3"
  },
  "language_info": {
   "codemirror_mode": {
    "name": "ipython",
    "version": 3
   },
   "file_extension": ".py",
   "mimetype": "text/x-python",
   "name": "python",
   "nbconvert_exporter": "python",
   "pygments_lexer": "ipython3",
   "version": "3.9.12"
  },
  "orig_nbformat": 4,
  "vscode": {
   "interpreter": {
    "hash": "365f1c88add7cf58324fbb6170f2cf259372affc8e8e36bcf6c529566a570412"
   }
  }
 },
 "nbformat": 4,
 "nbformat_minor": 2
}
