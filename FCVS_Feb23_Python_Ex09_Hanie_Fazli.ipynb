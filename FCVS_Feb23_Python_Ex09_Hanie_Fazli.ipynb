{
 "cells": [
  {
   "attachments": {},
   "cell_type": "markdown",
   "metadata": {},
   "source": [
    "# FirstName:Hanie\n",
    "\n",
    "# LastName: Fazli"
   ]
  },
  {
   "attachments": {},
   "cell_type": "markdown",
   "metadata": {},
   "source": [
    "# Exs 09"
   ]
  },
  {
   "attachments": {},
   "cell_type": "markdown",
   "metadata": {},
   "source": [
    "I use py 3.9.12 for this exersice"
   ]
  },
  {
   "attachments": {},
   "cell_type": "markdown",
   "metadata": {},
   "source": [
    "### Ex 01"
   ]
  },
  {
   "attachments": {},
   "cell_type": "markdown",
   "metadata": {},
   "source": [
    "Write a Python function to print the odd numbers from a given list.\n",
    "\n",
    "Sample List : [1, 2, 3, 4, 5, 6, 7, 8, 9], Expected Result : [1, 3, 5, 7, 9]"
   ]
  },
  {
   "cell_type": "code",
   "execution_count": 2,
   "metadata": {},
   "outputs": [
    {
     "name": "stdout",
     "output_type": "stream",
     "text": [
      "Sample List : [1, 2, 3, 4, 5, 6, 7, 8, 9], Expected Result : [1, 3, 5, 7, 9]\n"
     ]
    }
   ],
   "source": [
    "def find_odd_numbers(numbers_ls):\n",
    "    expected_result = list()\n",
    "    for number in numbers_ls:\n",
    "        if number % 2 != 0 :\n",
    "            expected_result.append(number)\n",
    "        else:\n",
    "            continue\n",
    "    print(f'Sample List : {numbers_ls}, Expected Result : {expected_result}')\n",
    "\n",
    "# call the above function and give sample list as input of this function\n",
    "find_odd_numbers([1, 2, 3, 4, 5, 6, 7, 8, 9])"
   ]
  },
  {
   "attachments": {},
   "cell_type": "markdown",
   "metadata": {},
   "source": [
    "### Ex 02"
   ]
  },
  {
   "attachments": {},
   "cell_type": "markdown",
   "metadata": {},
   "source": [
    "Write a Python function to calculate first n numbers of Fibonacci sequence. (n is function input)\n",
    "\n",
    "points:\n",
    "\n",
    "Use iteration to solve the question!\n",
    "\n",
    "input: 7, output: 0 1 1 2 3 5 8"
   ]
  },
  {
   "cell_type": "code",
   "execution_count": 4,
   "metadata": {},
   "outputs": [
    {
     "name": "stdout",
     "output_type": "stream",
     "text": [
      "input: 7, output:  0 1 1 2 3 5 8 "
     ]
    }
   ],
   "source": [
    "def n_fibonacci_sequence(n):\n",
    "    if n<1:\n",
    "        return\n",
    "    # sequence 0 of Fibonacci\n",
    "    f1 = 0\n",
    "    # sequence 1 of Fibonacci\n",
    "    f2 = 1\n",
    "\n",
    "    # define and initialize variable as next sequence\n",
    "    next = 0\n",
    "    print(f1,end=\" \")\n",
    "    for i in range(1,n):\n",
    "        print(f2,end=\" \")\n",
    "        next = f1 + f2\n",
    "        f1 = f2\n",
    "        f2 = next\n",
    "# get n from user as input\n",
    "n = int(input('Enter number: '))\n",
    "\n",
    "# print and call the above function\n",
    "print(f'input: {n}, output: ', end=\" \") \n",
    "n_fibonacci_sequence(n)"
   ]
  },
  {
   "attachments": {},
   "cell_type": "markdown",
   "metadata": {},
   "source": [
    "### Ex 03"
   ]
  },
  {
   "attachments": {},
   "cell_type": "markdown",
   "metadata": {},
   "source": [
    "Write a Python function to sort a given list of dictionaries (employees) using Lambda. (Sort by\n",
    "age, then for same ages, sort by name)\n",
    "\n",
    "employees = [{\"name\": \"Sanaz\", \"age\": 14}, {\"name\": \"AmirHossein\", \"age\": 18}, {\"name\": \"Azam\", \"age\":\n",
    "14}, {\"name\": \"Zahra\", \"age\": 16}, {\"name\": \"Shayan\", \"age\": 18}, {\"name\": \"Zahra\", \"age\": 17}]\n",
    "\n",
    "output: [{\"name\": \"Azam\", \"age\": 14}, {\"name\": \"Sanaz\", \"age\": 14}, {\"name\": \"Zahra\", \"age\": 16},\n",
    "{\"name\": \"Zahra\", \"age\": 17}, {\"name\": \"Hamed\", \"age\": 18}, {\"name\": \"Shayan\", \"age\": 18}]"
   ]
  },
  {
   "cell_type": "code",
   "execution_count": 7,
   "metadata": {},
   "outputs": [
    {
     "name": "stdout",
     "output_type": "stream",
     "text": [
      "output: [{'name': 'Azam', 'age': 14}, {'name': 'Sanaz', 'age': 14}, {'name': 'Zahra', 'age': 16}, {'name': 'Zahra', 'age': 17}, {'name': 'AmirHossein', 'age': 18}, {'name': 'Shayan', 'age': 18}]\n"
     ]
    }
   ],
   "source": [
    "\n",
    "# Initializing list of dictionaries\n",
    "employees = [{\"name\": \"Sanaz\", \"age\": 14},\n",
    "             {\"name\": \"AmirHossein\", \"age\": 18}, \n",
    "             {\"name\": \"Azam\", \"age\":14},\n",
    "             {\"name\": \"Zahra\", \"age\": 16}, \n",
    "             {\"name\": \"Shayan\", \"age\": 18}, \n",
    "             {\"name\": \"Zahra\", \"age\": 17}]\n",
    "\n",
    "# using sorted and lambda to print list sorted\n",
    "# by both age and name\n",
    "employees_sorted = sorted(employees,key=lambda i: (i[\"age\"],i[\"name\"]))\n",
    "print(f'output: {employees_sorted}')"
   ]
  }
 ],
 "metadata": {
  "kernelspec": {
   "display_name": "py3.9",
   "language": "python",
   "name": "python3"
  },
  "language_info": {
   "codemirror_mode": {
    "name": "ipython",
    "version": 3
   },
   "file_extension": ".py",
   "mimetype": "text/x-python",
   "name": "python",
   "nbconvert_exporter": "python",
   "pygments_lexer": "ipython3",
   "version": "3.9.12"
  },
  "orig_nbformat": 4,
  "vscode": {
   "interpreter": {
    "hash": "365f1c88add7cf58324fbb6170f2cf259372affc8e8e36bcf6c529566a570412"
   }
  }
 },
 "nbformat": 4,
 "nbformat_minor": 2
}
