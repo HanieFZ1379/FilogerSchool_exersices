{
 "cells": [
  {
   "attachments": {},
   "cell_type": "markdown",
   "metadata": {},
   "source": [
    "FirstName:Hanie\n",
    "\n",
    "LastName: Fazli"
   ]
  },
  {
   "attachments": {},
   "cell_type": "markdown",
   "metadata": {},
   "source": [
    "# Exs 08"
   ]
  },
  {
   "attachments": {},
   "cell_type": "markdown",
   "metadata": {},
   "source": [
    "I use py 3.9.12 for this exersice"
   ]
  },
  {
   "attachments": {},
   "cell_type": "markdown",
   "metadata": {},
   "source": [
    "### Ex 01"
   ]
  },
  {
   "attachments": {},
   "cell_type": "markdown",
   "metadata": {},
   "source": [
    "Count the number of characters (characters frequency) in a string and print the result as a\n",
    "dictionary!\n",
    "\n",
    "Example: input: 'Filoger' , output: {'f': 1, 'i': 1, 'l': 1, 'o': 1, 'g': 1, 'e': 1, 'r': 1}"
   ]
  },
  {
   "cell_type": "code",
   "execution_count": 3,
   "metadata": {},
   "outputs": [
    {
     "name": "stdout",
     "output_type": "stream",
     "text": [
      "input: 'Filoger' , output: {'f': 1, 'i': 1, 'l': 1, 'o': 1, 'g': 1, 'e': 1, 'r': 1}\n"
     ]
    }
   ],
   "source": [
    "# first write a loop on the string and define a dictionary for the frequency of each characters\n",
    "\n",
    "# get the string from user\n",
    "string = input('Enter a string: ')\n",
    "\n",
    "\"\"\" \n",
    "We assume that the uppercase or \n",
    "lowercase of the characters is \n",
    "not important to us, and for this \n",
    "reason we use the lower method \n",
    "to convert all characters into lowercase letters.\n",
    "\"\"\"\n",
    "lowercase_string = string.lower()\n",
    "\n",
    "# define a dictionary\n",
    "frequency = {}\n",
    "\n",
    "# write a loop on string\n",
    "for character in lowercase_string:\n",
    "    if character in frequency: # agar character dar dictinary bod , yeki be value ezafe mikone\n",
    "        frequency[character] +=1\n",
    "    else: # dar gheir in sorat meghdar value ro mosavi yek mizare , yani in character bar avalie ke tekrar mishe\n",
    "        frequency[character] =1 \n",
    "    \n",
    "# print\n",
    "print(f'input: \\'{string}\\' , output: {frequency}')"
   ]
  },
  {
   "attachments": {},
   "cell_type": "markdown",
   "metadata": {},
   "source": [
    "### Ex 02"
   ]
  },
  {
   "attachments": {},
   "cell_type": "markdown",
   "metadata": {},
   "source": [
    "Replace 'Google' with the 'ChatGPT' the following text and print that again!\n",
    "\n",
    "'Google is the border of science and innovation!'\n",
    "\n",
    "Example: output:\n",
    "'ChatGPT is the border of science and innovation!'"
   ]
  },
  {
   "cell_type": "code",
   "execution_count": 4,
   "metadata": {},
   "outputs": [
    {
     "name": "stdout",
     "output_type": "stream",
     "text": [
      "output: 'ChatGPT is the border of science and innovation!'\n",
      "output: 'ChatGPT is the border of science and innovation!'\n"
     ]
    }
   ],
   "source": [
    "# first , define the sentences as a variable\n",
    "sentence = 'Google is the border of science and innovation!'\n",
    "\"\"\"\n",
    "I wrote two solutions for this question. \n",
    "\"\"\"\n",
    "# solution 1 : split this sentences with space then write a loop and replace 'Google' with the 'ChatGPT'\n",
    "sentence_words = sentence.split(' ')\n",
    "# define result for assign the result of question\n",
    "result =''\n",
    "for word in sentence_words:\n",
    "    if word == 'Google':\n",
    "        word = 'ChatGPT'\n",
    "    if result == '':\n",
    "        result = word\n",
    "    else:\n",
    "        result = result + ' ' + word\n",
    "\n",
    "# print the result in the output\n",
    "print(f'output: \\'{result}\\'')\n",
    "\n",
    "# solution 2 : use replace method of string\n",
    "solution2 = sentence.replace('Google','ChatGPT')\n",
    "print(f'output: \\'{solution2}\\'')"
   ]
  },
  {
   "attachments": {},
   "cell_type": "markdown",
   "metadata": {},
   "source": [
    "### Ex 03"
   ]
  },
  {
   "attachments": {},
   "cell_type": "markdown",
   "metadata": {},
   "source": [
    "Get the current data and time and print the output (same as example)\n",
    "\n",
    "points:\n",
    "\n",
    "use datatime library to get the data and time\n",
    "\n",
    "use f-string to print the output!\n",
    "\n",
    "output: Current date is Feb 2 2023, and the time is 14:51"
   ]
  },
  {
   "cell_type": "code",
   "execution_count": 14,
   "metadata": {},
   "outputs": [
    {
     "name": "stdout",
     "output_type": "stream",
     "text": [
      "output: Current date is Feb 28 2023, and the time is 10:51\n"
     ]
    }
   ],
   "source": [
    "from datetime import datetime\n",
    "# using now() to get current time\n",
    "current_time = datetime.now()\n",
    "date_format = \"%b %-d %Y\"\n",
    "time_format= \"%-H:%-M\"\n",
    "\n",
    "# Using the strftime method, we write the date and time in the desired format.\n",
    "date = current_time.strftime(date_format)\n",
    "time= current_time.strftime(time_format)\n",
    "\n",
    "# print the output\n",
    "print(f\"output: Current date is {date}, and the time is {time}\")"
   ]
  },
  {
   "cell_type": "code",
   "execution_count": null,
   "metadata": {},
   "outputs": [],
   "source": []
  }
 ],
 "metadata": {
  "kernelspec": {
   "display_name": "py3.9",
   "language": "python",
   "name": "python3"
  },
  "language_info": {
   "codemirror_mode": {
    "name": "ipython",
    "version": 3
   },
   "file_extension": ".py",
   "mimetype": "text/x-python",
   "name": "python",
   "nbconvert_exporter": "python",
   "pygments_lexer": "ipython3",
   "version": "3.9.12"
  },
  "orig_nbformat": 4,
  "vscode": {
   "interpreter": {
    "hash": "365f1c88add7cf58324fbb6170f2cf259372affc8e8e36bcf6c529566a570412"
   }
  }
 },
 "nbformat": 4,
 "nbformat_minor": 2
}
