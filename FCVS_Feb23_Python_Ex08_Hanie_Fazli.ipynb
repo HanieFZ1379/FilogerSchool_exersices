{
 "cells": [
  {
   "attachments": {},
   "cell_type": "markdown",
   "metadata": {},
   "source": [
    "FirstName:Hanie\n",
    "\n",
    "LastName: Fazli"
   ]
  },
  {
   "attachments": {},
   "cell_type": "markdown",
   "metadata": {},
   "source": [
    "# Exs 08"
   ]
  },
  {
   "attachments": {},
   "cell_type": "markdown",
   "metadata": {},
   "source": [
    "I use py 3.9.12 for this exersice"
   ]
  },
  {
   "attachments": {},
   "cell_type": "markdown",
   "metadata": {},
   "source": [
    "### Ex 01"
   ]
  },
  {
   "attachments": {},
   "cell_type": "markdown",
   "metadata": {},
   "source": [
    "Count the number of characters (characters frequency) in a string and print the result as a\n",
    "dictionary!\n",
    "\n",
    "Example: input: 'Filoger' , output: {'f': 1, 'i': 1, 'l': 1, 'o': 1, 'g': 1, 'e': 1, 'r': 1}"
   ]
  },
  {
   "cell_type": "code",
   "execution_count": 3,
   "metadata": {},
   "outputs": [
    {
     "name": "stdout",
     "output_type": "stream",
     "text": [
      "input: 'Filoger' , output: {'f': 1, 'i': 1, 'l': 1, 'o': 1, 'g': 1, 'e': 1, 'r': 1}\n"
     ]
    }
   ],
   "source": [
    "# first write a loop on the string and define a dictionary for the frequency of each characters\n",
    "\n",
    "# get the string from user\n",
    "string = input('Enter a string: ')\n",
    "\n",
    "\"\"\" \n",
    "We assume that the uppercase or \n",
    "lowercase of the characters is \n",
    "not important to us, and for this \n",
    "reason we use the lower method \n",
    "to convert all characters into lowercase letters.\n",
    "\"\"\"\n",
    "lowercase_string = string.lower()\n",
    "\n",
    "# define a dictionary\n",
    "frequency = {}\n",
    "\n",
    "# write a loop on string\n",
    "for character in lowercase_string:\n",
    "    if character in frequency: # agar character dar dictinary bod , yeki be value ezafe mikone\n",
    "        frequency[character] +=1\n",
    "    else: # dar gheir in sorat meghdar value ro mosavi yek mizare , yani in character bar avalie ke tekrar mishe\n",
    "        frequency[character] =1 \n",
    "    \n",
    "# print\n",
    "print(f'input: \\'{string}\\' , output: {frequency}')ilo"
   ]
  },
  {
   "attachments": {},
   "cell_type": "markdown",
   "metadata": {},
   "source": [
    "### Ex 02"
   ]
  },
  {
   "cell_type": "markdown",
   "metadata": {},
   "source": []
  },
  {
   "cell_type": "code",
   "execution_count": null,
   "metadata": {},
   "outputs": [],
   "source": []
  }
 ],
 "metadata": {
  "kernelspec": {
   "display_name": "py3.9",
   "language": "python",
   "name": "python3"
  },
  "language_info": {
   "codemirror_mode": {
    "name": "ipython",
    "version": 3
   },
   "file_extension": ".py",
   "mimetype": "text/x-python",
   "name": "python",
   "nbconvert_exporter": "python",
   "pygments_lexer": "ipython3",
   "version": "3.9.12"
  },
  "orig_nbformat": 4,
  "vscode": {
   "interpreter": {
    "hash": "365f1c88add7cf58324fbb6170f2cf259372affc8e8e36bcf6c529566a570412"
   }
  }
 },
 "nbformat": 4,
 "nbformat_minor": 2
}
