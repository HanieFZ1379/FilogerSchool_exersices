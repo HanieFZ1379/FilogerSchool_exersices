{
 "cells": [
  {
   "attachments": {},
   "cell_type": "markdown",
   "metadata": {},
   "source": [
    "FirstName:Hanie\n",
    "\n",
    "LastName: Fazli"
   ]
  },
  {
   "attachments": {},
   "cell_type": "markdown",
   "metadata": {},
   "source": [
    "# Exs 03"
   ]
  },
  {
   "attachments": {},
   "cell_type": "markdown",
   "metadata": {},
   "source": [
    "I use py 3.9.12 for this exersice"
   ]
  },
  {
   "attachments": {},
   "cell_type": "markdown",
   "metadata": {},
   "source": [
    "### Ex 01"
   ]
  },
  {
   "attachments": {},
   "cell_type": "markdown",
   "metadata": {},
   "source": [
    "write a program in python to display the Factorial of a number\n",
    "\n",
    "Hints:\n",
    "1. use input method to get the number\n",
    "2. output: Factorial of {input number} is result\n",
    "3. output format must be same as the above format exactly\n",
    "\n",
    "input: 9 output: Factorial of 9 is 362880"
   ]
  },
  {
   "cell_type": "code",
   "execution_count": 1,
   "metadata": {},
   "outputs": [
    {
     "name": "stdout",
     "output_type": "stream",
     "text": [
      "Factorial of 9 is 362880\n"
     ]
    }
   ],
   "source": [
    "\"\"\"\n",
    "first get the number from user and \n",
    "converted to integer and defined as \n",
    "a variable(input_number).then write a loop and \n",
    "calculate the multiplication of number \n",
    "1 to  input_number and then print the result of\n",
    "this operators in output.\n",
    "\"\"\"\n",
    "# get the number and converted to integer\n",
    "input_number = int(input('Enter Number: '))\n",
    "\n",
    "# defined the variable for result of multiplication and initialize it\n",
    "multiplication = 1\n",
    "\n",
    "# write a loop and \n",
    "for i in range(1,(input_number+1)): # define range 1 to input_number\n",
    "    multiplication *= i\n",
    "\n",
    "# print the result\n",
    "print('Factorial of {0} is {1}'.format(input_number,multiplication))"
   ]
  },
  {
   "attachments": {},
   "cell_type": "markdown",
   "metadata": {},
   "source": [
    "### Ex 02"
   ]
  },
  {
   "attachments": {},
   "cell_type": "markdown",
   "metadata": {},
   "source": [
    "Generate random integer number and Write a program to guess the number \n",
    "\n",
    "Hints:\n",
    "1. use randint() to generate the random number between 1 to 100\n",
    "2. use input method to get the number \n",
    "3. if guessed number is higher than generated number, print \"Wrong,Guess the lower number!\"\n",
    "4. if guessed number is lower than generated number, print \"Wrong,Guess the higher number!\"\n",
    "5. if guessed number is equal than generated number, print \"Correct,good job\"\n",
    "\n",
    "Generated number: 8 , Guessed Number: 26, output: Wrong, Guess the lower number!"
   ]
  },
  {
   "cell_type": "code",
   "execution_count": 1,
   "metadata": {},
   "outputs": [
    {
     "name": "stdout",
     "output_type": "stream",
     "text": [
      "The Number you guessed was 67\n",
      "---------------------------------------------------------\n",
      "Wrong,Guess the lower number!\n",
      "The Number you guessed was 64\n",
      "---------------------------------------------------------\n",
      "Wrong,Guess the lower number!\n",
      "The Number you guessed was 47\n",
      "---------------------------------------------------------\n",
      "Wrong,Guess the lower number!\n",
      "The Number you guessed was 20\n",
      "---------------------------------------------------------\n",
      "Wrong,Guess the higher number!\n",
      "The Number you guessed was 28\n",
      "---------------------------------------------------------\n",
      "Wrong,Guess the lower number!\n",
      "The Number you guessed was 25\n",
      "---------------------------------------------------------\n",
      "Wrong,Guess the higher number!\n",
      "The Number you guessed was 26\n",
      "---------------------------------------------------------\n",
      "Wrong,Guess the higher number!\n",
      "The Number you guessed was 27\n",
      "---------------------------------------------------------\n",
      "Correct,good job\n",
      "*************************\n",
      "The Generated Number was 27\n"
     ]
    }
   ],
   "source": [
    "\"\"\"\n",
    "first import random library for use \n",
    "randint() method.\n",
    "then define generated number with randint()\n",
    "then get guessed number from user \n",
    "\"\"\"\n",
    "import random\n",
    "\n",
    "# define generated number with random number between 1 to 100\n",
    "Generated_Number = random.randint(1,100) # generate a random number between 1 to 100\n",
    "\n",
    "# get guessed number from user and converted to integer\n",
    "Guessed_Number = int(input('Guess a Number between 1 to 100 and Enter: '))\n",
    "\n",
    "# compare generated and guessed number\n",
    "while True:\n",
    "    print('The Number you guessed was {}'.format(Guessed_Number))\n",
    "    print('---------------------------------------------------------')\n",
    "    if Guessed_Number > Generated_Number :\n",
    "        print('Wrong,Guess the lower number!')\n",
    "        Guessed_Number = int(input('Guess again: '))\n",
    "        continue # to countine the while and compare generated and guessed number again\n",
    "    elif Guessed_Number < Generated_Number :\n",
    "        print('Wrong,Guess the higher number!')\n",
    "        Guessed_Number = int(input('Guess again: '))\n",
    "        continue # to countine the while and compare generated and guessed number again\n",
    "    elif Guessed_Number == Generated_Number :\n",
    "        print('Correct,good job')\n",
    "        break # to get out of the while beacause the guessed number is correct\n",
    "\n",
    "print('*************************')\n",
    "print('The Generated Number was {}'.format(Generated_Number))"
   ]
  },
  {
   "attachments": {},
   "cell_type": "markdown",
   "metadata": {},
   "source": [
    "### Ex 03"
   ]
  },
  {
   "attachments": {},
   "cell_type": "markdown",
   "metadata": {},
   "source": [
    "print the following pattern using loops.\n",
    "\n",
    "0 * 0 = 0\n",
    "....\n",
    "....\n",
    "....\n",
    "10 * 10 = 10"
   ]
  },
  {
   "cell_type": "code",
   "execution_count": 2,
   "metadata": {},
   "outputs": [
    {
     "name": "stdout",
     "output_type": "stream",
     "text": [
      "0 × 0 = 0\n",
      "1 × 1 = 1\n",
      "2 × 2 = 4\n",
      "3 × 3 = 9\n",
      "4 × 4 = 16\n",
      "5 × 5 = 25\n",
      "6 × 6 = 36\n",
      "7 × 7 = 49\n",
      "8 × 8 = 64\n",
      "9 × 9 = 81\n",
      "10 × 10 = 100\n"
     ]
    }
   ],
   "source": [
    "\"\"\"\n",
    "write a loop in range 0 to 10 and the print  \n",
    "And then we calculate the product of each \n",
    "element that is in this range with itself \n",
    "and print it in the output.\n",
    "\"\"\"\n",
    "\n",
    "for i in range(0,11): # the for in range 0 to 10\n",
    "    multiplication = 0\n",
    "    multiplication = i*i\n",
    "    print('{0} × {1} = {2}'.format(i,i,multiplication))"
   ]
  },
  {
   "attachments": {},
   "cell_type": "markdown",
   "metadata": {},
   "source": [
    "### Ex 04"
   ]
  },
  {
   "attachments": {},
   "cell_type": "markdown",
   "metadata": {},
   "source": [
    "Use for loop iteration from 0 to n(input number) and print the sum of all numbers.\n",
    "\n",
    "Input Number: 100, output: The sum of all number is 5050."
   ]
  },
  {
   "cell_type": "code",
   "execution_count": 5,
   "metadata": {},
   "outputs": [
    {
     "name": "stdout",
     "output_type": "stream",
     "text": [
      "The number you entered was 100\n",
      "The sum of all number is 5050.\n"
     ]
    }
   ],
   "source": [
    "\"\"\"\n",
    "first get the number from user\n",
    "then convert it to integer with casting\n",
    "then write a loop in range 0 to n+1 \n",
    "then sum all of number in this range\n",
    "and print the result in the output \n",
    "\"\"\"\n",
    "input_number = int(input('Enter a number: '))\n",
    " \n",
    "# define a variable for result of sum and initialize\n",
    "sum = 0\n",
    "\n",
    "for i in range(0,(input_number+1)):\n",
    "    sum += i\n",
    "print('The number you entered was {}'.format(input_number))\n",
    "print('The sum of all number is {}.'.format(sum))"
   ]
  },
  {
   "attachments": {},
   "cell_type": "markdown",
   "metadata": {},
   "source": [
    "### Ex 05"
   ]
  },
  {
   "attachments": {},
   "cell_type": "markdown",
   "metadata": {},
   "source": [
    "This is a fruit list, ['banana','orange','mango','lemon']reverse the order using loop.\n",
    "\n",
    "output: ['lemon','mango','orange','banana']"
   ]
  },
  {
   "cell_type": "code",
   "execution_count": 6,
   "metadata": {},
   "outputs": [
    {
     "name": "stdout",
     "output_type": "stream",
     "text": [
      "['lemon', 'mango', 'orange', 'banana']\n"
     ]
    }
   ],
   "source": [
    "\"\"\"\n",
    "first this list \n",
    "then write a loop in range 3 to -1 \n",
    "(it means i= 3 to 0) and write the step=-1 \n",
    "\"\"\"\n",
    "fruit_list = ['banana','orange','mango','lemon']\n",
    "\n",
    "# define empty list to put the output in it\n",
    "reverse_list = list()\n",
    "\n",
    "for i in range(3,-1,-1):\n",
    "    reverse_list.append(fruit_list[i])\n",
    "\n",
    "print(reverse_list)"
   ]
  },
  {
   "attachments": {},
   "cell_type": "markdown",
   "metadata": {},
   "source": [
    "### Ex 06"
   ]
  },
  {
   "attachments": {},
   "cell_type": "markdown",
   "metadata": {},
   "source": [
    "find the max element of the [8,120,83,89,24,97.5,201].\n",
    "\n",
    "output: 201"
   ]
  },
  {
   "cell_type": "code",
   "execution_count": null,
   "metadata": {},
   "outputs": [
    {
     "name": "stdout",
     "output_type": "stream",
     "text": [
      "201\n"
     ]
    }
   ],
   "source": [
    "\"\"\"\n",
    "first define the list\n",
    "then write a loop\n",
    "consider the first element of this list \n",
    "as the maximum, and then compare all the \n",
    "other elements with this maximum, and every\n",
    "time an element was greater than the maximum,\n",
    "replace it as the maximum, and after the loop,\n",
    "the number of the maximum print in the output. \n",
    "\"\"\"\n",
    "lst = [8,120,83,89,24,97.5,201]\n",
    "\n",
    "# first consider the first element of this list as the maximum\n",
    "maximum = lst[0]\n",
    "\n",
    "for i in range(1,len(lst)):\n",
    "    if lst[i]>maximum:\n",
    "        maximum = lst[i]\n",
    "    else:\n",
    "        continue\n",
    "\n",
    "print(maximum)"
   ]
  }
 ],
 "metadata": {
  "kernelspec": {
   "display_name": "py3.9",
   "language": "python",
   "name": "python3"
  },
  "language_info": {
   "codemirror_mode": {
    "name": "ipython",
    "version": 3
   },
   "file_extension": ".py",
   "mimetype": "text/x-python",
   "name": "python",
   "nbconvert_exporter": "python",
   "pygments_lexer": "ipython3",
   "version": "3.9.12"
  },
  "orig_nbformat": 4,
  "vscode": {
   "interpreter": {
    "hash": "365f1c88add7cf58324fbb6170f2cf259372affc8e8e36bcf6c529566a570412"
   }
  }
 },
 "nbformat": 4,
 "nbformat_minor": 2
}
