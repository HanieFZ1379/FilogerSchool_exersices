{
 "cells": [
  {
   "attachments": {},
   "cell_type": "markdown",
   "metadata": {},
   "source": [
    "FirstName:Hanie\n",
    "\n",
    "LastName: Fazli\n"
   ]
  },
  {
   "attachments": {},
   "cell_type": "markdown",
   "metadata": {},
   "source": [
    "# Exs 01"
   ]
  },
  {
   "attachments": {},
   "cell_type": "markdown",
   "metadata": {},
   "source": [
    "I use py 3.9.12 for this exersice"
   ]
  },
  {
   "attachments": {},
   "cell_type": "markdown",
   "metadata": {},
   "source": [
    "### Ex 01"
   ]
  },
  {
   "attachments": {},
   "cell_type": "markdown",
   "metadata": {},
   "source": [
    "What is the type of the following data?\n",
    "1. \"Filoger\"\n",
    "2. \"19.0\"\n",
    "3. 18\n",
    "4. 13.0\n",
    "5. True"
   ]
  },
  {
   "cell_type": "code",
   "execution_count": 3,
   "metadata": {},
   "outputs": [],
   "source": [
    "\"\"\"\n",
    "In this part, we want to \n",
    "define the method that get input \n",
    "and find the type of this input and print it in output\n",
    "\"\"\"\n",
    "def find_type(input_object):\n",
    "    print('The type of {0} is {1}'.format(input_object,type(input_object)))\n",
    "\n"
   ]
  },
  {
   "cell_type": "code",
   "execution_count": 7,
   "metadata": {},
   "outputs": [
    {
     "name": "stdout",
     "output_type": "stream",
     "text": [
      "The type of Filoger is <class 'str'>\n",
      "The type of 19.0 is <class 'str'>\n",
      "The type of 18 is <class 'int'>\n",
      "The type of 13.0 is <class 'float'>\n",
      "The type of True is <class 'bool'>\n"
     ]
    }
   ],
   "source": [
    "\"\"\"\n",
    "In this part,we define each input\n",
    "as a variable and call the defined \n",
    "function to find the type of each.\n",
    "\"\"\"\n",
    "variable1 = \"Filoger\"\n",
    "variable2 = \"19.0\"\n",
    "variable3 = 18\n",
    "variable4 = 13.0\n",
    "variable5 = True\n",
    "\n",
    "find_type(variable1)\n",
    "find_type(variable2)\n",
    "find_type(variable3)\n",
    "find_type(variable4)\n",
    "find_type(variable5)\n",
    "\n"
   ]
  },
  {
   "attachments": {},
   "cell_type": "markdown",
   "metadata": {},
   "source": [
    "### Ex 02"
   ]
  },
  {
   "attachments": {},
   "cell_type": "markdown",
   "metadata": {},
   "source": [
    "Convert the following data to integer?\n",
    "1. \"Filoger\"\n",
    "2. \"19.0\"\n",
    "3. 18\n",
    "4. 13.0\n",
    "5. True"
   ]
  },
  {
   "cell_type": "code",
   "execution_count": 8,
   "metadata": {},
   "outputs": [],
   "source": [
    "\"\"\"\n",
    "In this part, we want to \n",
    "define the method that get input \n",
    "and convert it to integer and \n",
    "print it in output\n",
    "\"\"\"\n",
    "def convert_to_integer(input_object):\n",
    "    print('The converted of {0} is {1}'.format(input_object,int(input_object)))"
   ]
  },
  {
   "cell_type": "code",
   "execution_count": 10,
   "metadata": {},
   "outputs": [
    {
     "ename": "ValueError",
     "evalue": "invalid literal for int() with base 10: 'Filoger'",
     "output_type": "error",
     "traceback": [
      "\u001b[0;31m---------------------------------------------------------------------------\u001b[0m",
      "\u001b[0;31mValueError\u001b[0m                                Traceback (most recent call last)",
      "Cell \u001b[0;32mIn[10], line 6\u001b[0m\n\u001b[1;32m      1\u001b[0m \u001b[39m\"\"\"\u001b[39;00m\n\u001b[1;32m      2\u001b[0m \u001b[39mIn this part,we call\u001b[39;00m\n\u001b[1;32m      3\u001b[0m \u001b[39mthe defined function\u001b[39;00m\n\u001b[1;32m      4\u001b[0m \u001b[39mto convert each variables to integer\u001b[39;00m\n\u001b[1;32m      5\u001b[0m \u001b[39m\"\"\"\u001b[39;00m\n\u001b[0;32m----> 6\u001b[0m convert_to_integer(variable1)\n",
      "Cell \u001b[0;32mIn[8], line 8\u001b[0m, in \u001b[0;36mconvert_to_integer\u001b[0;34m(input_object)\u001b[0m\n\u001b[1;32m      7\u001b[0m \u001b[39mdef\u001b[39;00m \u001b[39mconvert_to_integer\u001b[39m(input_object):\n\u001b[0;32m----> 8\u001b[0m     \u001b[39mprint\u001b[39m(\u001b[39m'\u001b[39m\u001b[39mThe converted of \u001b[39m\u001b[39m{0}\u001b[39;00m\u001b[39m is \u001b[39m\u001b[39m{1}\u001b[39;00m\u001b[39m'\u001b[39m\u001b[39m.\u001b[39mformat(input_object,\u001b[39mint\u001b[39;49m(input_object)))\n",
      "\u001b[0;31mValueError\u001b[0m: invalid literal for int() with base 10: 'Filoger'"
     ]
    }
   ],
   "source": [
    "\"\"\"\n",
    "In this part,we call\n",
    "the defined function\n",
    "to convert each variables to integer\n",
    "\"\"\"\n",
    "# convert \"Filoger\" to integer\n",
    "convert_to_integer(variable1)"
   ]
  },
  {
   "attachments": {},
   "cell_type": "markdown",
   "metadata": {},
   "source": [
    "As it can be seen, we get an error for the \"Filoger\" variable. Because the ‌\"Filoger\" variable is a type string and it is a word and it cannot be converted to an integer number."
   ]
  },
  {
   "cell_type": "code",
   "execution_count": 12,
   "metadata": {},
   "outputs": [
    {
     "ename": "ValueError",
     "evalue": "invalid literal for int() with base 10: '19.0'",
     "output_type": "error",
     "traceback": [
      "\u001b[0;31m---------------------------------------------------------------------------\u001b[0m",
      "\u001b[0;31mValueError\u001b[0m                                Traceback (most recent call last)",
      "Cell \u001b[0;32mIn[12], line 1\u001b[0m\n\u001b[0;32m----> 1\u001b[0m convert_to_integer(variable2)\n",
      "Cell \u001b[0;32mIn[8], line 8\u001b[0m, in \u001b[0;36mconvert_to_integer\u001b[0;34m(input_object)\u001b[0m\n\u001b[1;32m      7\u001b[0m \u001b[39mdef\u001b[39;00m \u001b[39mconvert_to_integer\u001b[39m(input_object):\n\u001b[0;32m----> 8\u001b[0m     \u001b[39mprint\u001b[39m(\u001b[39m'\u001b[39m\u001b[39mThe converted of \u001b[39m\u001b[39m{0}\u001b[39;00m\u001b[39m is \u001b[39m\u001b[39m{1}\u001b[39;00m\u001b[39m'\u001b[39m\u001b[39m.\u001b[39mformat(input_object,\u001b[39mint\u001b[39;49m(input_object)))\n",
      "\u001b[0;31mValueError\u001b[0m: invalid literal for int() with base 10: '19.0'"
     ]
    }
   ],
   "source": [
    "# convert \"19.0\" to integer\n",
    "convert_to_integer(variable2)"
   ]
  },
  {
   "attachments": {},
   "cell_type": "markdown",
   "metadata": {},
   "source": [
    "We get an error for converting this variable. Because this is a float number and to convert it to an integer, it must first be converted to a float number and then to an integer number. Next, we modify the code for that variable."
   ]
  },
  {
   "cell_type": "code",
   "execution_count": 14,
   "metadata": {},
   "outputs": [
    {
     "name": "stdout",
     "output_type": "stream",
     "text": [
      "The converted of 19.0 is 19\n"
     ]
    }
   ],
   "source": [
    "# convert 19.0 to integer\n",
    "convert_to_integer(float(variable2))"
   ]
  },
  {
   "cell_type": "code",
   "execution_count": 13,
   "metadata": {},
   "outputs": [
    {
     "name": "stdout",
     "output_type": "stream",
     "text": [
      "The converted of 18 is 18\n"
     ]
    }
   ],
   "source": [
    "# convert 18 to integer\n",
    "convert_to_integer(variable3)"
   ]
  },
  {
   "cell_type": "code",
   "execution_count": 15,
   "metadata": {},
   "outputs": [
    {
     "name": "stdout",
     "output_type": "stream",
     "text": [
      "The converted of 13.0 is 13\n"
     ]
    }
   ],
   "source": [
    "# convert 13.0 to integer\n",
    "convert_to_integer(variable4)"
   ]
  },
  {
   "cell_type": "code",
   "execution_count": 16,
   "metadata": {},
   "outputs": [
    {
     "name": "stdout",
     "output_type": "stream",
     "text": [
      "The converted of True is 1\n"
     ]
    }
   ],
   "source": [
    "# convert True to integer\n",
    "convert_to_integer(variable5)"
   ]
  },
  {
   "attachments": {},
   "cell_type": "markdown",
   "metadata": {},
   "source": [
    "### Ex 03"
   ]
  },
  {
   "attachments": {},
   "cell_type": "markdown",
   "metadata": {},
   "source": [
    "Print size of the following data in memory (bytes)?\n",
    "1. \"Filoger\"\n",
    "2. \"19.0\"\n",
    "3. 18\n",
    "4. 13.0\n",
    "5. True"
   ]
  },
  {
   "cell_type": "code",
   "execution_count": 21,
   "metadata": {},
   "outputs": [],
   "source": [
    "\"\"\"\n",
    "In this part, we want to \n",
    "define the method that get input \n",
    "and print the size of each variable\n",
    "in output.\n",
    "\"\"\"\n",
    "import sys\n",
    "\n",
    "def get_size(input_object):\n",
    "    print('The size of {0} is {1} byte(s)'.format(input_object,sys.getsizeof(input_object)))"
   ]
  },
  {
   "cell_type": "code",
   "execution_count": 22,
   "metadata": {},
   "outputs": [
    {
     "name": "stdout",
     "output_type": "stream",
     "text": [
      "The size of Filoger is 56 byte(s)\n",
      "The size of 19.0 is 53 byte(s)\n",
      "The size of 18 is 28 byte(s)\n",
      "The size of 13.0 is 24 byte(s)\n",
      "The size of True is 28 byte(s)\n"
     ]
    }
   ],
   "source": [
    "# size of \"Filoger\"\n",
    "get_size(variable1)\n",
    "# size of \"19.0\"\n",
    "get_size(variable2)\n",
    "# size of 18\n",
    "get_size(variable3)\n",
    "# size of 13.0\n",
    "get_size(variable4)\n",
    "# size of True\n",
    "get_size(variable5)"
   ]
  },
  {
   "attachments": {},
   "cell_type": "markdown",
   "metadata": {},
   "source": [
    "### Ex 04"
   ]
  },
  {
   "attachments": {},
   "cell_type": "markdown",
   "metadata": {},
   "source": [
    "Print running time of program to find type of the following data ?\n",
    "1. \"Filoger\"\n",
    "2. \"19.0\"\n",
    "3. 18\n",
    "4. 13.0\n",
    "5. True"
   ]
  },
  {
   "cell_type": "code",
   "execution_count": 23,
   "metadata": {},
   "outputs": [],
   "source": [
    "\"\"\"\n",
    "In this part, we want to \n",
    "define the method that get input \n",
    "and print the running time of \n",
    "program to find the type of each \n",
    "variables.\n",
    "\"\"\"\n",
    "import time\n",
    "\n",
    "def find_execute_time(input_object):\n",
    "\n",
    "    # get the start time\n",
    "    start_time = time.time()\n",
    "    # find type of input\n",
    "    input_object_type = type(input_object)\n",
    "    # get the end time\n",
    "    end_time = time.time()\n",
    "    # get the execution time\n",
    "    execution_time = end_time - start_time\n",
    "\n",
    "    print('The running time of {0} is {1} second(s)'.format(input_object,execution_time))"
   ]
  },
  {
   "cell_type": "code",
   "execution_count": 24,
   "metadata": {},
   "outputs": [
    {
     "name": "stdout",
     "output_type": "stream",
     "text": [
      "The running time of Filoger is 1.1920928955078125e-06 second(s)\n",
      "The running time of 19.0 is 4.76837158203125e-07 second(s)\n",
      "The running time of 18 is 4.76837158203125e-07 second(s)\n",
      "The running time of 13.0 is 2.384185791015625e-07 second(s)\n",
      "The running time of True is 2.384185791015625e-07 second(s)\n"
     ]
    }
   ],
   "source": [
    "# runnig time  for find the type of \"Filoger\"\n",
    "find_execute_time(variable1)\n",
    "# runnig time  for find the type of \"19.0\"\n",
    "find_execute_time(variable2)\n",
    "# runnig time  for find the type of 18\n",
    "find_execute_time(variable3)\n",
    "# runnig time  for find the type of 13.0\n",
    "find_execute_time(variable4)\n",
    "# runnig time  for find the type of True\n",
    "find_execute_time(variable5)"
   ]
  }
 ],
 "metadata": {
  "kernelspec": {
   "display_name": "py3.9",
   "language": "python",
   "name": "python3"
  },
  "language_info": {
   "codemirror_mode": {
    "name": "ipython",
    "version": 3
   },
   "file_extension": ".py",
   "mimetype": "text/x-python",
   "name": "python",
   "nbconvert_exporter": "python",
   "pygments_lexer": "ipython3",
   "version": "3.9.12 (main, Jun  1 2022, 11:38:51) \n[GCC 7.5.0]"
  },
  "orig_nbformat": 4,
  "vscode": {
   "interpreter": {
    "hash": "365f1c88add7cf58324fbb6170f2cf259372affc8e8e36bcf6c529566a570412"
   }
  }
 },
 "nbformat": 4,
 "nbformat_minor": 2
}
