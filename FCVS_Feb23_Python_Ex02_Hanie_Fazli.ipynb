{
 "cells": [
  {
   "attachments": {},
   "cell_type": "markdown",
   "metadata": {},
   "source": [
    "FirstName:Hanie\n",
    "\n",
    "LastName: Fazli"
   ]
  },
  {
   "attachments": {},
   "cell_type": "markdown",
   "metadata": {},
   "source": [
    "# Exs 02"
   ]
  },
  {
   "attachments": {},
   "cell_type": "markdown",
   "metadata": {},
   "source": [
    "I use py 3.9.12 for this exersice"
   ]
  },
  {
   "attachments": {},
   "cell_type": "markdown",
   "metadata": {},
   "source": [
    "### Ex 01"
   ]
  },
  {
   "attachments": {},
   "cell_type": "markdown",
   "metadata": {},
   "source": [
    "Get a number as circle diameter, and calculate the circle area\n",
    "points:\n",
    "1. Use input method to get circle diameter!\n",
    "2. Use str.format() method to print the output!\n",
    "3. Output must be same as following example, exactly!\n",
    "\n",
    "Example: input: 18 , output (print): Circle area is 254.469 "
   ]
  },
  {
   "cell_type": "code",
   "execution_count": 4,
   "metadata": {},
   "outputs": [
    {
     "name": "stdout",
     "output_type": "stream",
     "text": [
      "input: 18.0\n"
     ]
    }
   ],
   "source": [
    "\"\"\"\n",
    "in this section,we get a diameter from user as \n",
    "new value and then convert this string set variable to float type. \n",
    "using casting for this part\n",
    "\"\"\"\n",
    "diameter = float(input('Enter diameter: '))\n",
    "print('input: {}'.format(diameter))"
   ]
  },
  {
   "cell_type": "code",
   "execution_count": 5,
   "metadata": {},
   "outputs": [
    {
     "name": "stdout",
     "output_type": "stream",
     "text": [
      "radius of circle is: 9.0\n"
     ]
    }
   ],
   "source": [
    "\"\"\"\n",
    "In this section, we use the diameter\n",
    "of the radius of the circle to  \n",
    "calculate the area.\n",
    "\"\"\"\n",
    "radius = float(diameter/2)\n",
    "print('radius of circle is: {}'.format(radius))"
   ]
  },
  {
   "cell_type": "code",
   "execution_count": 7,
   "metadata": {},
   "outputs": [
    {
     "name": "stdout",
     "output_type": "stream",
     "text": [
      "Circle area is 254.469\n"
     ]
    }
   ],
   "source": [
    "\"\"\"\n",
    "Using the radius,\n",
    "we calculate the area of \n",
    "the circle and print it \n",
    "in the output.\n",
    "and imported the math \n",
    "library to use pi.\n",
    "\"\"\"\n",
    "import math\n",
    "circle_area = math.pi * (radius**2)\n",
    "print('Circle area is {:.3f}'.format(circle_area))"
   ]
  },
  {
   "attachments": {},
   "cell_type": "markdown",
   "metadata": {},
   "source": [
    "### Ex 02"
   ]
  },
  {
   "attachments": {},
   "cell_type": "markdown",
   "metadata": {},
   "source": [
    "Get width,height and length, then calculate and print the surface area and volume of a cuboid\n",
    "points:\n",
    "1. Use input method to get the inputs\n",
    "2. Use str.format() method to print the output\n",
    "3. Output must be same as following example exactly\n",
    "\n",
    "input1: 18, input2: 4 input3:5 OUTPUT : Volume of cuboid is 360.00 and Surface area of cuboid is 364.000"
   ]
  },
  {
   "cell_type": "code",
   "execution_count": 3,
   "metadata": {},
   "outputs": [
    {
     "name": "stdout",
     "output_type": "stream",
     "text": [
      "width is: 18.0 length is: 5.0 height is: 4.0\n"
     ]
    }
   ],
   "source": [
    "\"\"\"\n",
    "We take the width, length, and height \n",
    "as input, and since they are of string \n",
    "type, we convert them into float numbers \n",
    "and define each one as a variable.\n",
    "\"\"\"\n",
    "width = float(input('Enter Width: '))\n",
    "length = float(input('Enter Length: '))\n",
    "height = float(input('Enter Height: '))\n",
    "print('width is: {0} length is: {1} height is: {2}'.format(width,length,height))"
   ]
  },
  {
   "cell_type": "code",
   "execution_count": 4,
   "metadata": {},
   "outputs": [
    {
     "name": "stdout",
     "output_type": "stream",
     "text": [
      "Volume of cuboid is 360.00 and Surface area of cuboid is 364.000!\n"
     ]
    }
   ],
   "source": [
    "\"\"\"\n",
    "calculate Surface area and Volume in this part\n",
    "\"\"\"\n",
    "Surface_area = float(2*(length * width + width * height + length * height))\n",
    "Volume = float(width*length*height)\n",
    "print('Volume of cuboid is {:.2f} and Surface area of cuboid is {:.3f}!'.format(Volume,Surface_area))"
   ]
  },
  {
   "attachments": {},
   "cell_type": "markdown",
   "metadata": {},
   "source": [
    "### Ex 03"
   ]
  },
  {
   "attachments": {},
   "cell_type": "markdown",
   "metadata": {},
   "source": [
    "input(2 number) and print sum,division,subtraction,multiplication\n",
    "points:\n",
    "1. Use input method to get 2 number!\n",
    "2. Use str.format() method to print the output!\n",
    "3. Output must be same as following example, exactly!\n",
    "\n",
    "input1: 8 input2: 4 output: sum=12, division=2, subtraction=4, multiplication=32"
   ]
  },
  {
   "cell_type": "code",
   "execution_count": 14,
   "metadata": {},
   "outputs": [
    {
     "name": "stdout",
     "output_type": "stream",
     "text": [
      "number1 is: 8, number2 is: 4\n"
     ]
    }
   ],
   "source": [
    "\"\"\"\n",
    "get 2 input number and convert to number with casting \n",
    "and assume that they are integer number\n",
    "\"\"\"\n",
    "number1 = int(input('Enter First number: '))\n",
    "number2 = int(input('Enter Second number: '))\n",
    "print('number1 is: {0}, number2 is: {1}'.format(number1,number2))"
   ]
  },
  {
   "cell_type": "code",
   "execution_count": 15,
   "metadata": {},
   "outputs": [
    {
     "name": "stdout",
     "output_type": "stream",
     "text": [
      "sum=12, division=2.0, subtraction=4, multiplication=32\n"
     ]
    }
   ],
   "source": [
    "\"\"\"\n",
    "calculate sum, division, subtraction, multiplication \n",
    "\"\"\"\n",
    "sum = number1 + number2\n",
    "\n",
    "#for calculate division, the number/0 is not defined so we write one condition in if \n",
    "if number2 !=0 :\n",
    "    division = float(number1/number2)\n",
    "else:\n",
    "    print(\"This division is not defined!!!!!!!!\")\n",
    "subtraction = number1 - number2\n",
    "multiplication = number1*number2\n",
    "\n",
    "# print the result of them in output\n",
    "print('sum={0}, division={1}, subtraction={2}, multiplication={3}'.format(sum,division,subtraction,multiplication))"
   ]
  },
  {
   "cell_type": "markdown",
   "metadata": {},
   "source": [
    "### Ex 04"
   ]
  },
  {
   "attachments": {},
   "cell_type": "markdown",
   "metadata": {},
   "source": [
    "Get two string, concattenate them and print the result\n",
    "points:\n",
    "1. insert a space between two strings.\n",
    "2. Use input method to get two strings\n",
    "3. Use str.format() method to print the output \n",
    "4. Output must be same as following example exactly\n",
    "\n",
    "input1: string_1 input2: string_2 output: result is \"string_1 string_2\""
   ]
  },
  {
   "cell_type": "code",
   "execution_count": 2,
   "metadata": {},
   "outputs": [
    {
     "name": "stdout",
     "output_type": "stream",
     "text": [
      "First string is Hanie and Second string is Fazli\n",
      "--------------------------------------\n",
      "result is \"Hanie Fazli\"\n"
     ]
    }
   ],
   "source": [
    "\"\"\"\n",
    "get two strings from user in this part\n",
    "and defined them as variables.\n",
    "then concat them. \n",
    "\"\"\"\n",
    "string_1 = input('Enter First string: ')\n",
    "string_2 = input('Enter Second string: ')\n",
    "print('First string is {0} and Second string is {1}'.format(string_1,string_2))\n",
    "\n",
    "# conacte two string like this and insert space between two string\n",
    "concattenate = string_1 + ' ' + string_2\n",
    "\n",
    "# now print output\n",
    "print('--------------------------------------')\n",
    "print('result is \"{}\"'.format(concattenate))"
   ]
  },
  {
   "attachments": {},
   "cell_type": "markdown",
   "metadata": {},
   "source": [
    "### Ex 05"
   ]
  },
  {
   "attachments": {},
   "cell_type": "markdown",
   "metadata": {},
   "source": [
    "Write a Python program to convert Fahrenheit to Celsius.\n",
    "points:\n",
    "1. Use input method to get Fahrenheit!\n",
    "2. Use str.format() method to print the output!\n",
    "3. Output must be same as following example, exactly!\n",
    "\n",
    " input: 86 , output: 86 degree Fahrenheit is equal to 30.0 degree Celsius."
   ]
  },
  {
   "cell_type": "code",
   "execution_count": 1,
   "metadata": {},
   "outputs": [
    {
     "name": "stdout",
     "output_type": "stream",
     "text": [
      "The temperature in Farenheit is: 86\n",
      "86 degree Fahrenheit is equal to 30.0 degree Celsius.\n"
     ]
    }
   ],
   "source": [
    "\"\"\"\n",
    "get one number from user as a Fahrenheit \n",
    "and convert it to integer number\n",
    "then calculate celsius \n",
    "then print celsius in the output \n",
    "\"\"\"\n",
    "Fahrenheit = int(input('Enter the temperature in Farenheit: ')) \n",
    "# If we assumed that the Fahrenheit temperature is a float number, we should have put a float() instead of an int().\n",
    "print('The temperature in Farenheit is: {}'.format(Fahrenheit))\n",
    "# calculate Celsius\n",
    "Celsius=float(((Fahrenheit-32)*5)/9)\n",
    "# print th output\n",
    "print('{0} degree Fahrenheit is equal to {1} degree Celsius.'.format(Fahrenheit,Celsius))"
   ]
  },
  {
   "attachments": {},
   "cell_type": "markdown",
   "metadata": {},
   "source": [
    "### Ex 06"
   ]
  },
  {
   "attachments": {},
   "cell_type": "markdown",
   "metadata": {},
   "source": [
    "Write a code to create following pattern!"
   ]
  },
  {
   "cell_type": "code",
   "execution_count": 5,
   "metadata": {},
   "outputs": [
    {
     "name": "stdout",
     "output_type": "stream",
     "text": [
      "#\n",
      "##\n",
      "###\n",
      "####\n",
      "#####\n",
      "######\n",
      "#######\n"
     ]
    }
   ],
   "source": [
    "\"\"\"\n",
    "first defined row values as a constant\n",
    "then write two loop to print this pattern\n",
    "\"\"\"\n",
    "ROW = 7\n",
    "for i in range(1,8): # i=1,2,3,4,5,6,7\n",
    "    for j in range(1,i+1):\n",
    "        print('#',end='') # For example, for i=2 it will print the # symbol 2 times\n",
    "    print() # go to the next line"
   ]
  },
  {
   "cell_type": "code",
   "execution_count": 6,
   "metadata": {},
   "outputs": [
    {
     "name": "stdout",
     "output_type": "stream",
     "text": [
      "Number of Row is: 10\n",
      "-------------------------------\n",
      "#\n",
      "##\n",
      "###\n",
      "####\n",
      "#####\n",
      "######\n",
      "#######\n",
      "########\n",
      "#########\n",
      "##########\n"
     ]
    }
   ],
   "source": [
    "\"\"\"\n",
    "if we get number of rows from user\n",
    "we can change code like this \n",
    "\"\"\"\n",
    "row = int(input('Enter number of rows: '))\n",
    "print('Number of Row is: {}'.format(row))\n",
    "print('-------------------------------')\n",
    "for i in range(1,row+1): # i=1,2,3,4,5,6,7\n",
    "    for j in range(1,i+1):\n",
    "        print('#',end='') # For example, for i=2 it will print the # symbol 2 times\n",
    "    print() # go to the next line"
   ]
  }
 ],
 "metadata": {
  "kernelspec": {
   "display_name": "py3.9",
   "language": "python",
   "name": "python3"
  },
  "language_info": {
   "codemirror_mode": {
    "name": "ipython",
    "version": 3
   },
   "file_extension": ".py",
   "mimetype": "text/x-python",
   "name": "python",
   "nbconvert_exporter": "python",
   "pygments_lexer": "ipython3",
   "version": "3.9.12"
  },
  "orig_nbformat": 4,
  "vscode": {
   "interpreter": {
    "hash": "365f1c88add7cf58324fbb6170f2cf259372affc8e8e36bcf6c529566a570412"
   }
  }
 },
 "nbformat": 4,
 "nbformat_minor": 2
}
