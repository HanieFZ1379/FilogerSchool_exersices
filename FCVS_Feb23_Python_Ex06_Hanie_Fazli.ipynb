{
 "cells": [
  {
   "attachments": {},
   "cell_type": "markdown",
   "metadata": {},
   "source": [
    "FirstName:Hanie\n",
    "\n",
    "LastName: Fazli"
   ]
  },
  {
   "attachments": {},
   "cell_type": "markdown",
   "metadata": {},
   "source": [
    "# Exs 06"
   ]
  },
  {
   "attachments": {},
   "cell_type": "markdown",
   "metadata": {},
   "source": [
    "I use py 3.9.12 for this exersice"
   ]
  },
  {
   "attachments": {},
   "cell_type": "markdown",
   "metadata": {},
   "source": [
    "### Ex 01"
   ]
  },
  {
   "attachments": {},
   "cell_type": "markdown",
   "metadata": {},
   "source": [
    "1. Create an empty dictionary called dog\n",
    "2. Add name, color, breed, legs, age to the dog dictionary"
   ]
  },
  {
   "cell_type": "code",
   "execution_count": 1,
   "metadata": {},
   "outputs": [],
   "source": [
    "# question1 , create an empty dictionary\n",
    "dog = {}"
   ]
  },
  {
   "cell_type": "code",
   "execution_count": 2,
   "metadata": {},
   "outputs": [
    {
     "name": "stdout",
     "output_type": "stream",
     "text": [
      "dog = {'name': 'Pami', 'color': 'white', 'breed': 'German Shepherd', 'legs': 4, 'age': 2}\n"
     ]
    }
   ],
   "source": [
    "# question2 , Add name, color, breed, legs, age to the dog dictionary\n",
    "dog['name'] = 'Pami'\n",
    "dog['color'] = 'white'\n",
    "dog['breed'] = 'German Shepherd'\n",
    "dog['legs'] = 4\n",
    "dog['age'] = 2\n",
    "print('dog = {}'.format(dog))"
   ]
  },
  {
   "attachments": {},
   "cell_type": "markdown",
   "metadata": {},
   "source": [
    "### Ex 02"
   ]
  },
  {
   "attachments": {},
   "cell_type": "markdown",
   "metadata": {},
   "source": [
    "1. Create a student dictionary and add first_name, last_name, gender, age, skills, country, city and address as keys for the dictionary \n",
    "2. Get the length of the student dictionary\n",
    "3. Get the value of skills and check the data type, it should be a list\n",
    "4. Modify the skills values by adding one or two skills \n",
    "5. Get the dictionary keys as a list \n",
    "6. Get the dictionary values as a list \n",
    "7. Change the dictionary to a list of tuples using items() method \n",
    "8. Delete one of the items in the dictionary\n",
    "9. Delete all dictionaries"
   ]
  },
  {
   "cell_type": "code",
   "execution_count": 29,
   "metadata": {},
   "outputs": [
    {
     "name": "stdout",
     "output_type": "stream",
     "text": [
      "Student = {'first_name': 'Hanie', 'last_name': 'Fazli', 'gender': 'Female', 'age': 22, 'skills': ['Computer Engineer', 'Programmer', 'Developer', 'Machine Learning Engineer'], 'country': 'Iran', 'city': 'Tehran', 'Address': 'Tehran Province, Tehran, Ground floor, No.9, 12th st., Ahmad Qasir Bokharest St'}\n"
     ]
    }
   ],
   "source": [
    "# question1 , create Student dictionary\n",
    "student ={}\n",
    "student['first_name'] = 'Hanie'\n",
    "student['last_name'] = 'Fazli'\n",
    "student['gender'] = 'Female'\n",
    "student['age'] = 22\n",
    "student['skills'] = ['Computer Engineer','Programmer', 'Developer' , 'Machine Learning Engineer']\n",
    "student['country'] = 'Iran'\n",
    "student['city'] = 'Tehran'\n",
    "student['Address'] = 'Tehran Province, Tehran, Ground floor, No.9, 12th st., Ahmad Qasir Bokharest St'\n",
    "print('Student = {}'.format(student))"
   ]
  },
  {
   "cell_type": "code",
   "execution_count": 7,
   "metadata": {},
   "outputs": [
    {
     "name": "stdout",
     "output_type": "stream",
     "text": [
      "The lenght of the Student dictionary is 8.\n"
     ]
    }
   ],
   "source": [
    "# question2 , get the length of student dictionary\n",
    "print('The lenght of the Student dictionary is {}.'.format(len(student)))"
   ]
  },
  {
   "cell_type": "code",
   "execution_count": 8,
   "metadata": {},
   "outputs": [
    {
     "name": "stdout",
     "output_type": "stream",
     "text": [
      "The value of skills: ['Computer Engineer', 'Programmer', 'Developer', 'Machine Learning Engineer']\n",
      "The type of skills: <class 'list'>\n"
     ]
    }
   ],
   "source": [
    "# question3 get the value of skills and the type\n",
    "print('The value of skills: {}'.format(student['skills']))\n",
    "print('The type of skills: {}'.format(type(student['skills'])))"
   ]
  },
  {
   "cell_type": "code",
   "execution_count": 9,
   "metadata": {},
   "outputs": [
    {
     "name": "stdout",
     "output_type": "stream",
     "text": [
      "The value of skills: ['Computer Engineer', 'Programmer', 'Developer', 'Machine Learning Engineer', 'Data Analyst', 'Data Scientist']\n"
     ]
    }
   ],
   "source": [
    "#question4, Modify the skills values by adding one or two skills \n",
    "student['skills'].append('Data Analyst')\n",
    "student['skills'].append('Data Scientist')\n",
    "print('The value of skills: {}'.format(student['skills']))"
   ]
  },
  {
   "cell_type": "code",
   "execution_count": 22,
   "metadata": {},
   "outputs": [
    {
     "name": "stdout",
     "output_type": "stream",
     "text": [
      "Keys: ['first_name', 'last_name', 'gender', 'age', 'skills', 'country', 'city', 'Address']\n"
     ]
    }
   ],
   "source": [
    "# question5, the dictionary keys as a list\n",
    "print('Keys: {}'.format(list(student.keys())))"
   ]
  },
  {
   "cell_type": "code",
   "execution_count": 14,
   "metadata": {},
   "outputs": [
    {
     "name": "stdout",
     "output_type": "stream",
     "text": [
      "Values: ['Hanie', 'Fazli', 'Female', 22, ['Computer Engineer', 'Programmer', 'Developer', 'Machine Learning Engineer', 'Data Analyst', 'Data Scientist'], 'Iran', 'Tehran', 'Tehran Province, Tehran, Ground floor, No.9, 12th st., Ahmad Qasir Bokharest St']\n"
     ]
    }
   ],
   "source": [
    "# question6 , the dictionary values as a list\n",
    "print('Values: {}'.format(list(student.values())))"
   ]
  },
  {
   "cell_type": "code",
   "execution_count": 15,
   "metadata": {},
   "outputs": [
    {
     "name": "stdout",
     "output_type": "stream",
     "text": [
      "student_list: [('first_name', 'Hanie'), ('last_name', 'Fazli'), ('gender', 'Female'), ('age', 22), ('skills', ['Computer Engineer', 'Programmer', 'Developer', 'Machine Learning Engineer', 'Data Analyst', 'Data Scientist']), ('country', 'Iran'), ('city', 'Tehran'), ('Address', 'Tehran Province, Tehran, Ground floor, No.9, 12th st., Ahmad Qasir Bokharest St')]\n"
     ]
    }
   ],
   "source": [
    "# question7, Converting into list of tuple\n",
    "student_list = [(key, value) for key, value in student.items()]\n",
    "print('student_list: {}'.format(student_list))"
   ]
  },
  {
   "cell_type": "code",
   "execution_count": 16,
   "metadata": {},
   "outputs": [
    {
     "name": "stdout",
     "output_type": "stream",
     "text": [
      "The update of student dictionary; {'first_name': 'Hanie', 'last_name': 'Fazli', 'gender': 'Female', 'age': 22, 'skills': ['Computer Engineer', 'Programmer', 'Developer', 'Machine Learning Engineer', 'Data Analyst', 'Data Scientist'], 'country': 'Iran', 'city': 'Tehran'}\n"
     ]
    }
   ],
   "source": [
    "# question8, Delete one of the items in the dictionary\n",
    "del(student['Address'])\n",
    "print('The update of student dictionary; {}'.format(student))"
   ]
  },
  {
   "cell_type": "code",
   "execution_count": 31,
   "metadata": {},
   "outputs": [
    {
     "name": "stdout",
     "output_type": "stream",
     "text": [
      "After deleted all items of dictionary , steudent= {}\n"
     ]
    }
   ],
   "source": [
    "# question9,Delete all dictionaries\n",
    "Keys = list(student.keys()) # Keys = ['first_name', 'last_name', 'gender', 'age', 'skills', 'country', 'city', 'Address']\n",
    "for i in range(len(student)-1,-1,-1): # i = 7,6,5,4,3,2,1,0  . i az 8-1 shoro mishe va har bar i yeki yeki kam mishe ta i=0 \n",
    "    del(student[Keys[i]]) # first iteration : delete student['Adress'] , second iteration : delete student['city'] and ...\n",
    "print('After deleted all items of dictionary , steudent= {}'.format(student))"
   ]
  },
  {
   "cell_type": "code",
   "execution_count": 35,
   "metadata": {},
   "outputs": [
    {
     "name": "stdout",
     "output_type": "stream",
     "text": [
      "Student Dictionary is {'first_name': 'Hanie', 'last_name': 'Fazli', 'gender': 'Female', 'age': 22, 'skills': ['Computer Engineer', 'Programmer', 'Developer', 'Machine Learning Engineer'], 'country': 'Iran', 'city': 'Tehran', 'Address': 'Tehran Province, Tehran, Ground floor, No.9, 12th st., Ahmad Qasir Bokharest St'}\n",
      "*******************************************************|*******\n",
      "After deleted all items of dictionary , student= {}\n"
     ]
    }
   ],
   "source": [
    "# another solution for delete all items of dictionary use clear() method\n",
    "# set the item for student again\n",
    "student['first_name'] = 'Hanie'\n",
    "student['last_name'] = 'Fazli'\n",
    "student['gender'] = 'Female'\n",
    "student['age'] = 22\n",
    "student['skills'] = ['Computer Engineer','Programmer', 'Developer' , 'Machine Learning Engineer']\n",
    "student['country'] = 'Iran'\n",
    "student['city'] = 'Tehran'\n",
    "student['Address'] = 'Tehran Province, Tehran, Ground floor, No.9, 12th st., Ahmad Qasir Bokharest St'\n",
    "print('Student Dictionary is {}'.format(student))\n",
    "print('*******************************************************|*******')\n",
    "# use clear() method to delete all items of dictionaries\n",
    "student.clear()\n",
    "print('After deleted all items of dictionary , student= {}'.format(student))"
   ]
  }
 ],
 "metadata": {
  "kernelspec": {
   "display_name": "py3.9",
   "language": "python",
   "name": "python3"
  },
  "language_info": {
   "codemirror_mode": {
    "name": "ipython",
    "version": 3
   },
   "file_extension": ".py",
   "mimetype": "text/x-python",
   "name": "python",
   "nbconvert_exporter": "python",
   "pygments_lexer": "ipython3",
   "version": "3.9.12"
  },
  "orig_nbformat": 4,
  "vscode": {
   "interpreter": {
    "hash": "365f1c88add7cf58324fbb6170f2cf259372affc8e8e36bcf6c529566a570412"
   }
  }
 },
 "nbformat": 4,
 "nbformat_minor": 2
}
