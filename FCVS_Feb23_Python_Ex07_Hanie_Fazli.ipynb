{
 "cells": [
  {
   "attachments": {},
   "cell_type": "markdown",
   "metadata": {},
   "source": [
    "FirstName:Hanie\n",
    "\n",
    "LastName: Fazli"
   ]
  },
  {
   "attachments": {},
   "cell_type": "markdown",
   "metadata": {},
   "source": [
    "# Exs 07"
   ]
  },
  {
   "attachments": {},
   "cell_type": "markdown",
   "metadata": {},
   "source": [
    "I use py 3.9.12 for this exersice"
   ]
  },
  {
   "attachments": {},
   "cell_type": "markdown",
   "metadata": {},
   "source": [
    "### Ex 01"
   ]
  },
  {
   "attachments": {},
   "cell_type": "markdown",
   "metadata": {},
   "source": [
    "1. Find the length of the set it_companies\n",
    "2. Add 'Twitter' to it_companies\n",
    "3. Insert multiple IT companies at once to the set it_companies\n",
    "4. Remove one of the companies from the set it_companies\n",
    "5. What is the difference between remove and discard"
   ]
  },
  {
   "cell_type": "code",
   "execution_count": 3,
   "metadata": {},
   "outputs": [
    {
     "name": "stdout",
     "output_type": "stream",
     "text": [
      "The Length of this set is 7\n"
     ]
    }
   ],
   "source": [
    "# question 1,find the length of the set\n",
    "\n",
    "# first, define the set as following\n",
    "it_companies = {'Facebook', 'Google', 'Microsoft', 'Apple', 'IBM', 'Oracle', 'Amazon'}\n",
    "\n",
    "# print the length\n",
    "print('The Length of this set is {}'.format(len(it_companies)))"
   ]
  },
  {
   "cell_type": "code",
   "execution_count": 5,
   "metadata": {},
   "outputs": [
    {
     "name": "stdout",
     "output_type": "stream",
     "text": [
      "it_companies = {'Facebook', 'IBM', 'Microsoft', 'Amazon', 'Apple', 'Oracle', 'Twitter', 'Google'}\n"
     ]
    }
   ],
   "source": [
    "# question2, add Twitter to this set\n",
    "it_companies.add('Twitter')\n",
    "print('it_companies = {}'.format(it_companies))"
   ]
  },
  {
   "cell_type": "code",
   "execution_count": 7,
   "metadata": {},
   "outputs": [
    {
     "name": "stdout",
     "output_type": "stream",
     "text": [
      "solution1 : it_companies = {'IBM', 'Microsoft', 'Twitter', 'Google', 'Amazon', 'Apple', 'Facebook', 'Oracle Financial Services Software', 'Oracle', 'HCL Technologies'}\n",
      "solution2 : it_companies = {'IBM', 'Microsoft', 'Twitter', 'Google', 'Larsen & Toubro Infotech', 'Amazon', 'Apple', 'Facebook', 'Oracle Financial Services Software', 'Tech Mahindra', 'Oracle', 'HCL Technologies'}\n"
     ]
    }
   ],
   "source": [
    "# question3, insert multiple items to the set at once\n",
    "# we have 2 ways\n",
    "# solution 1 : use update method to do this\n",
    "it_companies.update(['HCL Technologies','Oracle Financial Services Software'])\n",
    "print('solution1 : it_companies = {}'.format(it_companies))\n",
    "\n",
    "# solution 2: Use the \"|\" operator to create a new set that contains all elements\n",
    "it_companies |= set(['Larsen & Toubro Infotech','Tech Mahindra'])\n",
    "print('solution2 : it_companies = {}'.format(it_companies))\n"
   ]
  },
  {
   "cell_type": "code",
   "execution_count": 8,
   "metadata": {},
   "outputs": [
    {
     "name": "stdout",
     "output_type": "stream",
     "text": [
      "After remove one of the companies from set : it_companies = {'IBM', 'Microsoft', 'Twitter', 'Google', 'Larsen & Toubro Infotech', 'Amazon', 'Apple', 'Facebook', 'Tech Mahindra', 'Oracle', 'HCL Technologies'}\n"
     ]
    }
   ],
   "source": [
    "# question4, remove one of the companies from the set\n",
    "it_companies.remove('Oracle Financial Services Software')\n",
    "print('After remove one of the companies from set : it_companies = {}'.format(it_companies))"
   ]
  },
  {
   "cell_type": "code",
   "execution_count": 10,
   "metadata": {},
   "outputs": [
    {
     "name": "stdout",
     "output_type": "stream",
     "text": [
      "After delete 'Twitter' with discard method: it_companies = {'IBM', 'Microsoft', 'Google', 'Larsen & Toubro Infotech', 'Amazon', 'Apple', 'Facebook', 'Tech Mahindra', 'Oracle', 'HCL Technologies'}\n",
      "After delete 'Oracle Financial Services Software' with discard method: it_companies = {'IBM', 'Microsoft', 'Twitter', 'Google', 'Larsen & Toubro Infotech', 'Amazon', 'Apple', 'Facebook', 'Tech Mahindra', 'Oracle', 'HCL Technologies'}\n"
     ]
    }
   ],
   "source": [
    "# question5, difference between remove and discard\n",
    "\"\"\" \n",
    "if use discard method :\n",
    "removes the element from \n",
    "the set only if the element \n",
    "is present in the set. If the \n",
    "element is not present in the \n",
    "set, then no error or exception \n",
    "is raised and the original set is printed.\n",
    "\"\"\"\n",
    "# use discard method and if the element is present in the set\n",
    "it_companies.discard('Twitter')\n",
    "print('After delete \\'Twitter\\' with discard method: it_companies = {}'.format(it_companies))\n",
    "\n",
    "# again add 'Twitter' to the set \n",
    "it_companies.add('Twitter')\n",
    "\n",
    "# use discard method and if the element is not present in the set: for example like 'Oracle Financial Services Software'\n",
    "it_companies.discard('Oracle Financial Services Software')\n",
    "print('After delete \\'Oracle Financial Services Software\\' with discard method: it_companies = {}'.format(it_companies))"
   ]
  },
  {
   "cell_type": "code",
   "execution_count": 13,
   "metadata": {},
   "outputs": [
    {
     "name": "stdout",
     "output_type": "stream",
     "text": [
      "After delete 'Twitter' with remove method: it_companies = {'IBM', 'Microsoft', 'Google', 'Larsen & Toubro Infotech', 'Amazon', 'Apple', 'Facebook', 'Tech Mahindra', 'Oracle', 'HCL Technologies'}\n"
     ]
    }
   ],
   "source": [
    "# use remove method and if the element is present in the set\n",
    "it_companies.remove('Twitter')\n",
    "print('After delete \\'Twitter\\' with remove method: it_companies = {}'.format(it_companies))\n",
    "\n",
    "# again add 'Twitter' to the set \n",
    "it_companies.add('Twitter')"
   ]
  },
  {
   "cell_type": "code",
   "execution_count": 15,
   "metadata": {},
   "outputs": [
    {
     "ename": "KeyError",
     "evalue": "'Oracle Financial Services Software'",
     "output_type": "error",
     "traceback": [
      "\u001b[0;31m---------------------------------------------------------------------------\u001b[0m",
      "\u001b[0;31mKeyError\u001b[0m                                  Traceback (most recent call last)",
      "Cell \u001b[0;32mIn[15], line 2\u001b[0m\n\u001b[1;32m      1\u001b[0m \u001b[39m# use remove method and if the element is not present in the set: for example like 'Oracle Financial Services Software'\u001b[39;00m\n\u001b[0;32m----> 2\u001b[0m it_companies\u001b[39m.\u001b[39;49mremove(\u001b[39m'\u001b[39;49m\u001b[39mOracle Financial Services Software\u001b[39;49m\u001b[39m'\u001b[39;49m)\n\u001b[1;32m      3\u001b[0m \u001b[39mprint\u001b[39m(\u001b[39m'\u001b[39m\u001b[39mAfter delete \u001b[39m\u001b[39m\\'\u001b[39;00m\u001b[39mOracle Financial Services Software\u001b[39m\u001b[39m\\'\u001b[39;00m\u001b[39m with remove method: it_companies = \u001b[39m\u001b[39m{}\u001b[39;00m\u001b[39m'\u001b[39m\u001b[39m.\u001b[39mformat(it_companies))\n",
      "\u001b[0;31mKeyError\u001b[0m: 'Oracle Financial Services Software'"
     ]
    }
   ],
   "source": [
    "# use remove method and if the element is not present in the set: for example like 'Oracle Financial Services Software'\n",
    "it_companies.remove('Oracle Financial Services Software')\n",
    "print('After delete \\'Oracle Financial Services Software\\' with remove method: it_companies = {}'.format(it_companies))"
   ]
  },
  {
   "attachments": {},
   "cell_type": "markdown",
   "metadata": {},
   "source": [
    "در واقع هر دو متد عمل یکسان انجام میدن اما متد ریمو زمانیکه یک عنصر در مجموعه وجود نداشته باشد ارور میده\n",
    "در حالیکه اگر از متد دیسکارد استفاده کنیم حتی اگر آن عنصر در مجموعه وجود نداشته باشد اروری در خروجی نخواهد داد "
   ]
  },
  {
   "attachments": {},
   "cell_type": "markdown",
   "metadata": {},
   "source": [
    "### Ex 02"
   ]
  },
  {
   "attachments": {},
   "cell_type": "markdown",
   "metadata": {},
   "source": [
    "Convert the ages to a set and compare the length of the list and the set, which one is bigger?\n",
    "\n",
    "age = [22, 19, 24, 25, 26, 24, 25, 24]"
   ]
  },
  {
   "cell_type": "code",
   "execution_count": 17,
   "metadata": {},
   "outputs": [
    {
     "name": "stdout",
     "output_type": "stream",
     "text": [
      "Set of age is : {19, 22, 24, 25, 26}\n",
      "List of age is : [22, 19, 24, 25, 26, 24, 25, 24]\n",
      "The length of List(8) is bigger than the length of the Set(5)\n"
     ]
    }
   ],
   "source": [
    "# first define the set\n",
    "age = [22, 19, 24, 25, 26, 24, 25, 24]\n",
    "\n",
    "# convert this list to set\n",
    "age_set = set(age)\n",
    "\n",
    "# print list and set in the output\n",
    "print('Set of age is : {}'.format(age_set))\n",
    "print('List of age is : {}'.format(age))\n",
    "\n",
    "# length of set\n",
    "length_of_set = len(age_set)\n",
    "# length of list\n",
    "length_of_list = len(age)\n",
    "\n",
    "# which one is bigger,compare\n",
    "if length_of_list > length_of_set:\n",
    "    print('The length of List({0}) is bigger than the length of the Set({1})'.format(length_of_list,length_of_set))\n",
    "elif length_of_list < length_of_set:\n",
    "    print('The length of Set({1}) is bigger than the length of the List({0})'.format(length_of_list,length_of_set))\n",
    "else:\n",
    "    print('The length of List({}) and the length of the Set({}) is equal'.format(length_of_list,length_of_set))\n"
   ]
  },
  {
   "attachments": {},
   "cell_type": "markdown",
   "metadata": {},
   "source": [
    "### Ex 03"
   ]
  },
  {
   "attachments": {},
   "cell_type": "markdown",
   "metadata": {},
   "source": [
    "(I am a teacher and I love to inspire and teach people.) How many unique words have been used in the sentence?\n",
    "Use the split methods and set to get the unique words."
   ]
  },
  {
   "cell_type": "code",
   "execution_count": 19,
   "metadata": {},
   "outputs": [
    {
     "name": "stdout",
     "output_type": "stream",
     "text": [
      "I am a teacher and I love to inspire and teach people\n"
     ]
    }
   ],
   "source": [
    "# first define the sentence\n",
    "sentence = \"I am a teacher and I love to inspire and teach people.\"\n",
    "# then I delete '.' character with split method\n",
    "sentence = sentence.split('.')[0] # faghat element aval ke kalamat in jomla ro dare niaz darim \n",
    "print(sentence)\n",
    "# "
   ]
  },
  {
   "cell_type": "code",
   "execution_count": 23,
   "metadata": {},
   "outputs": [
    {
     "name": "stdout",
     "output_type": "stream",
     "text": [
      "The list of Words: ['I', 'am', 'a', 'teacher', 'and', 'I', 'love', 'to', 'inspire', 'and', 'teach', 'people']\n",
      "10 unique words have been used in the sentence\n",
      "Unique Words are : {'and', 'inspire', 'people', 'am', 'a', 'I', 'teach', 'to', 'love', 'teacher'}\n"
     ]
    }
   ],
   "source": [
    "# Now again, using the split method and the space character, we put the words in a list.\n",
    "list_of_words = sentence.split(' ')\n",
    "print('The list of Words: {}'.format(list_of_words))\n",
    "# Because we want the number of unique words here,\n",
    "# we convert this list into a set so that the duplicate words in the list are removed.\n",
    "set_of_words = set(list_of_words)\n",
    "# Now by get the length of this, the number of unique words of this sentence is obtained\n",
    "unique_words_number = len(set_of_words)\n",
    "print('{} unique words have been used in the sentence'.format(unique_words_number))\n",
    "# print unique words in the output\n",
    "print('Unique Words are : {}'.format(set_of_words))"
   ]
  }
 ],
 "metadata": {
  "kernelspec": {
   "display_name": "py3.9",
   "language": "python",
   "name": "python3"
  },
  "language_info": {
   "codemirror_mode": {
    "name": "ipython",
    "version": 3
   },
   "file_extension": ".py",
   "mimetype": "text/x-python",
   "name": "python",
   "nbconvert_exporter": "python",
   "pygments_lexer": "ipython3",
   "version": "3.9.12"
  },
  "orig_nbformat": 4,
  "vscode": {
   "interpreter": {
    "hash": "365f1c88add7cf58324fbb6170f2cf259372affc8e8e36bcf6c529566a570412"
   }
  }
 },
 "nbformat": 4,
 "nbformat_minor": 2
}
